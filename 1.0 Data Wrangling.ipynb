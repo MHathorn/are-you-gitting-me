{
 "cells": [
  {
   "cell_type": "markdown",
   "id": "5b15c871-8143-4ad6-98fc-6fc7d1f7a005",
   "metadata": {
    "tags": []
   },
   "source": [
    "# 1.0 Data Wrangling\n",
    "\n",
    "## Foundations of Spatial Data Science - CASA0013\n",
    "\n",
    "### Group Project - Policy Brief"
   ]
  },
  {
   "cell_type": "code",
   "execution_count": 1,
   "id": "3ed7f0e8-a9e1-412f-9cae-03f871f709bd",
   "metadata": {},
   "outputs": [
    {
     "name": "stderr",
     "output_type": "stream",
     "text": [
      "<jemalloc>: MADV_DONTNEED does not work (memset will be used instead)\n",
      "<jemalloc>: (This is the expected behaviour if you are running under QEMU)\n"
     ]
    }
   ],
   "source": [
    "#Importing required packages\n",
    "import pandas as pd\n",
    "import geopandas as gpd\n",
    "import numpy as np"
   ]
  },
  {
   "cell_type": "markdown",
   "id": "cac4e5a9-df30-41ea-b379-1c59edc63035",
   "metadata": {},
   "source": [
    "## 1.1 Calculating Rate of Professional AirBnB hosts by LSOA"
   ]
  },
  {
   "cell_type": "markdown",
   "id": "026acae7-ad80-4362-b1d7-b35455e430d2",
   "metadata": {},
   "source": [
    "### 1.1.1 Read in data"
   ]
  },
  {
   "cell_type": "code",
   "execution_count": 9,
   "id": "b68f3a94-ef62-44d1-ad7b-d56c1ba2f5bf",
   "metadata": {},
   "outputs": [],
   "source": [
    "# Reading in listings data\n",
    "listings = gpd.read_feather(\"data/2022-09-10-listings.geofeather\")"
   ]
  },
  {
   "cell_type": "code",
   "execution_count": 10,
   "id": "fc7965c0-ad8b-4216-8c6b-4513c2e8f6fb",
   "metadata": {},
   "outputs": [],
   "source": [
    "lsoa = gpd.read_file(\"data/boundaries/LSOA_2004_London_Low_Resolution.shp\")"
   ]
  },
  {
   "cell_type": "markdown",
   "id": "c4923f45-e12c-4e27-9285-76fe6cf5ea5f",
   "metadata": {},
   "source": [
    "### 1.1.2 Convert to same CRS"
   ]
  },
  {
   "cell_type": "code",
   "execution_count": 15,
   "id": "73ca5546-3d27-4976-bf1e-975434379bd3",
   "metadata": {},
   "outputs": [],
   "source": [
    "listings = listings.to_crs(lsoa.crs)"
   ]
  },
  {
   "cell_type": "markdown",
   "id": "79b4bd91-286a-4b44-8bf9-6c72ca98a15c",
   "metadata": {},
   "source": [
    "### 1.1.3 Spatial Join listings to LSOAs (spatial aggregation unit)"
   ]
  },
  {
   "cell_type": "code",
   "execution_count": null,
   "id": "6b8ba555-ed34-4dba-80e7-c832cf286820",
   "metadata": {},
   "outputs": [],
   "source": []
  }
 ],
 "metadata": {
  "kernelspec": {
   "display_name": "Python 3 (ipykernel)",
   "language": "python",
   "name": "python3"
  },
  "language_info": {
   "codemirror_mode": {
    "name": "ipython",
    "version": 3
   },
   "file_extension": ".py",
   "mimetype": "text/x-python",
   "name": "python",
   "nbconvert_exporter": "python",
   "pygments_lexer": "ipython3",
   "version": "3.10.5"
  }
 },
 "nbformat": 4,
 "nbformat_minor": 5
}
