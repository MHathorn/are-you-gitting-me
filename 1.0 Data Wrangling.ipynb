{
 "cells": [
  {
   "cell_type": "markdown",
   "id": "5b15c871-8143-4ad6-98fc-6fc7d1f7a005",
   "metadata": {
    "tags": []
   },
   "source": [
    "# 1.0 Data Wrangling\n",
    "\n",
    "## Foundations of Spatial Data Science - CASA0013\n",
    "\n",
    "### Group Project - Policy Brief"
   ]
  },
  {
   "cell_type": "code",
   "execution_count": 1,
   "id": "3ed7f0e8-a9e1-412f-9cae-03f871f709bd",
   "metadata": {},
   "outputs": [
    {
     "name": "stderr",
     "output_type": "stream",
     "text": [
      "<jemalloc>: MADV_DONTNEED does not work (memset will be used instead)\n",
      "<jemalloc>: (This is the expected behaviour if you are running under QEMU)\n"
     ]
    }
   ],
   "source": [
    "#Importing required packages\n",
    "import pandas as pd\n",
    "import geopandas as gpd\n",
    "import numpy as np"
   ]
  }
 ],
 "metadata": {
  "kernelspec": {
   "display_name": "Python 3 (ipykernel)",
   "language": "python",
   "name": "python3"
  },
  "language_info": {
   "codemirror_mode": {
    "name": "ipython",
    "version": 3
   },
   "file_extension": ".py",
   "mimetype": "text/x-python",
   "name": "python",
   "nbconvert_exporter": "python",
   "pygments_lexer": "ipython3",
   "version": "3.10.5"
  }
 },
 "nbformat": 4,
 "nbformat_minor": 5
}
