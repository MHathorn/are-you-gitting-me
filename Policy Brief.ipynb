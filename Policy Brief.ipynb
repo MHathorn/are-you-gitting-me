{
 "cells": [
  {
   "cell_type": "markdown",
   "id": "bb009976-56f7-4fc4-ad62-a897b20de9e9",
   "metadata": {},
   "source": [
    "#  Professionalisation of gentrification: Role of Airbnb in London"
   ]
  },
  {
   "cell_type": "markdown",
   "id": "0eadc9b3-552d-4473-9127-2ce28e39b8a4",
   "metadata": {
    "tags": []
   },
   "source": [
    "## Executive Summary (200)"
   ]
  },
  {
   "cell_type": "markdown",
   "id": "03431572-8f66-4212-bfbe-caafe652e89e",
   "metadata": {},
   "source": [
    "This report presents...\n",
    "\n",
    "\n",
    "These are our key questions:\n",
    "1. \n",
    "2. \n",
    "3.\n"
   ]
  },
  {
   "cell_type": "markdown",
   "id": "0a463b4f-e107-448d-9079-878a00dc4412",
   "metadata": {},
   "source": [
    "## Background (650)"
   ]
  },
  {
   "cell_type": "markdown",
   "id": "0bcb557f-972c-4ed2-8f4d-2139bc19e4ac",
   "metadata": {},
   "source": [
    "## UK/ London Housing Market\n",
    "Even before the dawn of Airbnb, London's housing problem haslong been a topic of contention. The Right to Buy Scheme under the Housing Act 1980 allowed tenants to purchase their council homes at a significant discount, where more than 1.8m homes were sold (Foster 2015). Coupled with limited annual addition to social housing stock, the UK has experienced an average annual net loss of 24,000 council homes and rising distorded prices since 1991. (Shelter n.d.) **info on how london current housing prices is amongst the top globally.** As of 2020, 47.3% of London housing tenures were rented, with a plurality (26.6%) housing in the private rental market, subject to growing market volatility and steep price rises (Trust for London nd). Future for London (2017) estimated 40% of Londoners will be private renters by 2030. \n",
    "\n",
    "### Airbnb in London\n",
    "\n",
    "Airbnb brands itself as a tool for the sharing economy, where property owners are given the opportunity to let temporarily vacant rooms or properties for short-term stays. However, the platform has become increasingly pofessionalised, which is continously contributing to London's afforability crisis and gentrification (Wachsmuth and Weisler 2018; Harris 2018; Lee 2016). Professional hosts - i.e. those with more than one Airbnb listing - earn up to 16.9% higher daily revenue on their properties than non professional hosts (Li et al. 2015). Currently, 45.9 % of Airbnb hosts in London have more than one whole home listing (Inside Airbnb 2022). \n",
    "\n",
    "### Gentrification\n",
    "\n",
    "\n",
    "### Culture & Gentrification\n",
    "\n",
    "Culture is an effective tool for local urban development, and the Mayor of London's cultural campaigns have effectively utilised it. In 2019, the London Borough of Culture campaign has boosted the local economy by £ 4.1 mullion in Walthamstow Forest (Mayor of London nd) and £6 million was injected into cultural industries post pandemic to bring people back to central London. \n",
    "\n",
    "Nonetheless key critics of have argued cutural campaigns to be gentrification in disguise (Tasmin & Dave 2012), claiming\n",
    "\n",
    "### Culture & Airbnbs\n",
    "\n",
    "\n",
    "\n",
    "Is there relationship between cutural infrastrcture and professionalisation of airbnb?\n",
    "\n",
    "\n",
    "Sacco et al. (2009): Culture as a catalyst for sustainable local development\n",
    "\n",
    "Zukin (1987): Culture as a means of gentrification in the urban core\n",
    "\n",
    "Florida (2003): Rise of the Creative Class in search for cultural K.\n",
    "\n",
    "Ferguson (1992): Culture as a site of identity politics in urban processes, leading to exclusions. Gentrification result in smaller enclave of 'original' residents.\n",
    "\n",
    "Culture has 2 dimension in urban planning:\n",
    "- Making the area attractive and well known (Bianchini and Parkinson, 1993, Paddison 1993)\n",
    "- ’the experience economy’ where visitors and investors are drawn into unique place-based experience either of a heritage or a retail variety. (Harvey 1989, Pine and Gilmore 1999)\n",
    "\t- this notion has been expanded frequently\n",
    "\t\t- Florida (2004) Creative Class — environment attracting them\n",
    "\t\t- Cultural Cluster: consumption practise of culture (Mommaas, 2004)\n",
    "        "
   ]
  },
  {
   "cell_type": "markdown",
   "id": "311b1550-cef7-4da1-b53b-f04c7952404a",
   "metadata": {},
   "source": [
    "## Objectives (200)"
   ]
  },
  {
   "cell_type": "markdown",
   "id": "d01e9286-e4b2-4639-bf6f-02cb51f5aed1",
   "metadata": {},
   "source": [
    "## Summary of Key Findings (200)"
   ]
  },
  {
   "cell_type": "markdown",
   "id": "4a8d3337-e0f9-40b8-a340-9e39279a6419",
   "metadata": {},
   "source": [
    "## Extended Results/Policy Discussion (850)"
   ]
  },
  {
   "cell_type": "markdown",
   "id": "2d5f7330-e8e1-4e58-a397-db3eeeacafa6",
   "metadata": {},
   "source": [
    "## Conclusion (250)"
   ]
  },
  {
   "cell_type": "markdown",
   "id": "3f971ff2-7cb4-4cd7-b5be-2595d039029b",
   "metadata": {},
   "source": [
    "## Appendix: Methodology & Data (100)"
   ]
  },
  {
   "cell_type": "markdown",
   "id": "e005b5aa-7d2a-4a9b-9cc2-6ca2d9b48cd2",
   "metadata": {},
   "source": [
    "## References\n",
    "\n",
    "https://discovery.ucl.ac.uk/id/eprint/10120512/1/0042098020970865.pdf\n",
    "\n",
    "\n",
    "Foster (2015) https://www.theguardian.com/housing-network/2015/dec/07/housing-right-to-buy-margaret-thatcher-data\n",
    "\n",
    "Wachsmuth D and Weisler A (2018) Airbnb and the rent gap: Gentrification through the sharing economy https://doi.org/10.1177/0308518X1877803\n",
    "\n",
    "Harris 2018: Airbnb + Communities https://www.theguardian.com/commentisfree/2018/feb/12/profiteers-killing-airbnb-erode-communities\n",
    "\n",
    "https://england.shelter.org.uk/support_us/campaigns/social_housing_deficit\n",
    "\n",
    "Trust for London nd https://www.trustforlondon.org.uk/data/housing-tenure-over-time/#:~:text=Rates%20of%20home%20ownership%20peaked,fallen%20to%2020.7%25%20in%202020.\n",
    "\n",
    "\n",
    "Deboosere, R., Kerrigan, D.J., Wachsmuth, D. and El-Geneidy, A., 2019. Location, location and professionalization: a multilevel hedonic analysis of Airbnb listing prices and revenue. Regional Studies, Regional Science, 6(1), pp.143-156.\n",
    "\n",
    "Li, J., Moreno, A., & Zhang, D. J. (2015). Agent behavior in the sharing economy: Evidence from Airbnb. Ross School of Business Working Paper Series, 1298, 2015.\n",
    "\n",
    "Future of London 2017 https://www.futureoflondon.org.uk/wp-content/uploads/delightful-downloads/2017/12/FoL-Engaging-Londons-PRS-WEB.pdf\n",
    "\n",
    "London Borough of Culture (nd)\n",
    "https://www.london.gov.uk/sites/default/files/mol_lboc_impact_report_2022_a4_digital_version.pdf\n",
    "\n",
    "\n",
    "Mould 2017 https://www.opendemocracy.net/en/opendemocracyuk/why-culture-competitions-and-artwashing-drive-urban-inequality/\n",
    "\n",
    "Tamsin Cox & Dave O'Brien (2012) The “scouse wedding” and other myths: reflections on the evolution of a “Liverpool model” for culture-led urban regeneration, Cultural Trends, 21:2, 93-101, DOI: 10.1080/09548963.2012.674749\n"
   ]
  },
  {
   "cell_type": "markdown",
   "id": "f9ab9195-76b4-45c3-8232-8fa3bc6c325a",
   "metadata": {
    "tags": []
   },
   "source": [
    "## Cultural Infrastructure"
   ]
  },
  {
   "cell_type": "markdown",
   "id": "2423fcbc-8d0a-4f2a-bfa4-077f118954bc",
   "metadata": {},
   "source": [
    "### Role of Culture in Urban Processes"
   ]
  },
  {
   "cell_type": "markdown",
   "id": "c70d5089-f580-44d8-9312-af30d0f1ca37",
   "metadata": {},
   "source": [
    "\n"
   ]
  },
  {
   "cell_type": "markdown",
   "id": "aa66a1cc-16a8-44c5-984e-070900a41f3c",
   "metadata": {},
   "source": [
    "### Classification of cultural infrastructure"
   ]
  },
  {
   "cell_type": "markdown",
   "id": "0ecb815a-3a73-441c-842e-3ba16f67ed30",
   "metadata": {},
   "source": [
    "J Allen Whitt 1987: The Arts Coalition and the Urban Growth Machine\n",
    "\n",
    "*High Arts & the Upper Class*: "
   ]
  },
  {
   "cell_type": "markdown",
   "id": "69a8f761-fe55-46e8-81a3-092716cc563c",
   "metadata": {},
   "source": [
    "# Methodology"
   ]
  },
  {
   "cell_type": "code",
   "execution_count": null,
   "id": "fa022273-bb73-499c-b529-4caf28800492",
   "metadata": {},
   "outputs": [],
   "source": []
  }
 ],
 "metadata": {
  "kernelspec": {
   "display_name": "Python 3 (ipykernel)",
   "language": "python",
   "name": "python3"
  },
  "language_info": {
   "codemirror_mode": {
    "name": "ipython",
    "version": 3
   },
   "file_extension": ".py",
   "mimetype": "text/x-python",
   "name": "python",
   "nbconvert_exporter": "python",
   "pygments_lexer": "ipython3",
   "version": "3.10.5"
  }
 },
 "nbformat": 4,
 "nbformat_minor": 5
}
