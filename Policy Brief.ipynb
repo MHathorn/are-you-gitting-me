{
 "cells": [
  {
   "cell_type": "markdown",
   "id": "0f0d4731-abc6-4dbe-8e0f-a071a20aeb7d",
   "metadata": {},
   "source": [
    "# Introduction"
   ]
  },
  {
   "cell_type": "markdown",
   "id": "fdac94aa-3429-43f4-b2d0-8b35a4c6f710",
   "metadata": {},
   "source": [
    "# Litereature Review"
   ]
  },
  {
   "cell_type": "markdown",
   "id": "f9ab9195-76b4-45c3-8232-8fa3bc6c325a",
   "metadata": {},
   "source": [
    "## Cultural Infrastructure"
   ]
  },
  {
   "cell_type": "markdown",
   "id": "2423fcbc-8d0a-4f2a-bfa4-077f118954bc",
   "metadata": {},
   "source": [
    "### Role of Culture in Urban Processes"
   ]
  },
  {
   "cell_type": "markdown",
   "id": "c70d5089-f580-44d8-9312-af30d0f1ca37",
   "metadata": {},
   "source": [
    "Sacco et al. (2009): Culture as a catalyst for sustainable local development\n",
    "\n",
    "Zukin (1987): Culture as a means of gentrification in the urban core\n",
    "\n",
    "Florida (2003): Rise of the Creative Class in search for cultural K.\n",
    "\n",
    "Ferguson (1992): Culture as a site of identity politics in urban processes, leading to exclusions. Gentrification result in smaller enclave of 'original' residents.\n",
    "\n",
    "Culture has 2 dimension in urban planning:\n",
    "- Making the area attractive and well known (Bianchini and Parkinson, 1993, Paddison 1993)\n",
    "- ’the experience economy’ where visitors and investors are drawn into unique place-based experience either of a heritage or a retail variety. (Harvey 1989, Pine and Gilmore 1999)\n",
    "\t- this notion has been expanded frequently\n",
    "\t\t- Florida (2004) Creative Class — environment attracting them\n",
    "\t\t- Cultural Cluster: consumption practise of culture (Mommaas, 2004)\n"
   ]
  },
  {
   "cell_type": "markdown",
   "id": "aa66a1cc-16a8-44c5-984e-070900a41f3c",
   "metadata": {},
   "source": [
    "### Classification of cultural infrastructure"
   ]
  },
  {
   "cell_type": "markdown",
   "id": "0ecb815a-3a73-441c-842e-3ba16f67ed30",
   "metadata": {},
   "source": [
    "J Allen Whitt 1987: The Arts Coalition and the Urban Growth Machine\n",
    "\n",
    "*High Arts & the Upper Class*: "
   ]
  },
  {
   "cell_type": "markdown",
   "id": "69a8f761-fe55-46e8-81a3-092716cc563c",
   "metadata": {},
   "source": [
    "# Methodology"
   ]
  },
  {
   "cell_type": "code",
   "execution_count": null,
   "id": "fa022273-bb73-499c-b529-4caf28800492",
   "metadata": {},
   "outputs": [],
   "source": []
  }
 ],
 "metadata": {
  "kernelspec": {
   "display_name": "Python 3 (ipykernel)",
   "language": "python",
   "name": "python3"
  },
  "language_info": {
   "codemirror_mode": {
    "name": "ipython",
    "version": 3
   },
   "file_extension": ".py",
   "mimetype": "text/x-python",
   "name": "python",
   "nbconvert_exporter": "python",
   "pygments_lexer": "ipython3",
   "version": "3.10.5"
  }
 },
 "nbformat": 4,
 "nbformat_minor": 5
}
