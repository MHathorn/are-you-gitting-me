{
 "cells": [
  {
   "cell_type": "markdown",
   "id": "bb009976-56f7-4fc4-ad62-a897b20de9e9",
   "metadata": {},
   "source": [
    "#  Evaluate whether we should encourage Airbnb operation in relationship to hotels: A Cultural perspective\n",
    "## Greater London Authority Briefing: Arts & Culture"
   ]
  },
  {
   "cell_type": "markdown",
   "id": "496df00d-677a-4a30-b409-081921da48b7",
   "metadata": {},
   "source": [
    "_Instruction:_\n",
    "\n",
    "_The briefing will be written as if to update the Mayor of the Greater London Authority on the challenges/opportunities relating to Airbnb’s operations in London. As such, the Policy Briefing will begin with a short Summary, including Key Findings and, if desired, Recommendations; this will typically be followed by a brief review of the evidence from London (and potentially elsewhere, if relevant) and an analysis supported by the data. Your analysis will be supported using appropriately selected and generated tables, charts, and maps._"
   ]
  },
  {
   "cell_type": "markdown",
   "id": "0eadc9b3-552d-4473-9127-2ce28e39b8a4",
   "metadata": {
    "tags": []
   },
   "source": [
    "## Executive Summary (200)"
   ]
  },
  {
   "cell_type": "markdown",
   "id": "03431572-8f66-4212-bfbe-caafe652e89e",
   "metadata": {},
   "source": [
    "This report presents...\n",
    "\n",
    "\n",
    "These are our key questions:\n",
    "1. \n",
    "2. \n",
    "3.\n"
   ]
  },
  {
   "cell_type": "markdown",
   "id": "0a463b4f-e107-448d-9079-878a00dc4412",
   "metadata": {},
   "source": [
    "## Background (650)"
   ]
  },
  {
   "cell_type": "markdown",
   "id": "0bcb557f-972c-4ed2-8f4d-2139bc19e4ac",
   "metadata": {},
   "source": [
    "Brief: Should we promote airbnbs operations or support the hotel economy that is better regulated and taxed within the cultural context\n",
    "\n",
    "### Policy Standing\n",
    "*  Airbnb are less regulated\n",
    "*  Hotels are better taxed\n",
    "*  Airbnb allows for a geographically wider tourist economy\n",
    "*  Hotels remains relatively ridgid in already economically and culturally dense areas.\n",
    "\n",
    "\n",
    "### Airbnb & Hotels\n",
    "*  Competing markets.\n",
    "*  Rise of airbnb threatens hotel industry.\n",
    "*  Zervas et al. (2017) -- The rise of the sharing economy: Estimating the impact of Airbnb on the hotel industry\n",
    "\n",
    "\n",
    "### Culture & Airbnb\n",
    "*  Airbnbs more closely track cultural activities occuring beyond saturated economic zones (zone 1).\n",
    "*  Sun, Wang, Hu (2022): Spatial distribution of Airbnb and its influencing factors: A case study of Suzhou, China https://www.sciencedirect.com/science/article/pii/S0143622822000121?casa_token=joliGEi-ULoAAAAA:0DyaimcL740GWbAQkCETruBOabQvrCcCwyX934W7U-asYrTR6PCVDBQBnG_bwenMA9XAUVZ98w\n",
    "*  \n",
    "\n",
    "### Hotel & Culture\n",
    "*  Often established in economic zones\n",
    "*  Donald McNeill (2008): Hotel and the city\n"
   ]
  },
  {
   "cell_type": "markdown",
   "id": "311b1550-cef7-4da1-b53b-f04c7952404a",
   "metadata": {
    "jp-MarkdownHeadingCollapsed": true,
    "tags": []
   },
   "source": [
    "## Objectives (200)\n",
    "\n",
    "### Given the benefit airbnb brings into the culture economy, should we encourage it's operations? \n",
    "### If so, where so that it does not undermine the hotel industry?\n",
    "*  We want to keep hotels going because of good established tax and regulations.\n"
   ]
  },
  {
   "cell_type": "markdown",
   "id": "d01e9286-e4b2-4639-bf6f-02cb51f5aed1",
   "metadata": {},
   "source": [
    "## Summary of Key Findings (200)\n",
    "\n",
    "Identified 5 categories in the airbnb, cuture, hotel triad. \n"
   ]
  },
  {
   "cell_type": "markdown",
   "id": "4a8d3337-e0f9-40b8-a340-9e39279a6419",
   "metadata": {},
   "source": [
    "## Extended Results/Policy Discussion (850)"
   ]
  },
  {
   "cell_type": "markdown",
   "id": "2d5f7330-e8e1-4e58-a397-db3eeeacafa6",
   "metadata": {},
   "source": [
    "## Conclusion (250)"
   ]
  },
  {
   "cell_type": "markdown",
   "id": "3f971ff2-7cb4-4cd7-b5be-2595d039029b",
   "metadata": {},
   "source": [
    "## Appendix: Methodology & Data (100)"
   ]
  },
  {
   "cell_type": "markdown",
   "id": "e005b5aa-7d2a-4a9b-9cc2-6ca2d9b48cd2",
   "metadata": {},
   "source": [
    "## References\n",
    "\n",
    "https://discovery.ucl.ac.uk/id/eprint/10120512/1/0042098020970865.pdf\n",
    "\n",
    "\n",
    "Foster (2015) https://www.theguardian.com/housing-network/2015/dec/07/housing-right-to-buy-margaret-thatcher-data\n",
    "\n",
    "Wachsmuth D and Weisler A (2018) Airbnb and the rent gap: Gentrification through the sharing economy https://doi.org/10.1177/0308518X1877803\n",
    "\n",
    "Harris 2018: Airbnb + Communities https://www.theguardian.com/commentisfree/2018/feb/12/profiteers-killing-airbnb-erode-communities\n",
    "\n",
    "https://england.shelter.org.uk/support_us/campaigns/social_housing_deficit\n",
    "\n",
    "Trust for London nd https://www.trustforlondon.org.uk/data/housing-tenure-over-time/#:~:text=Rates%20of%20home%20ownership%20peaked,fallen%20to%2020.7%25%20in%202020.\n",
    "\n",
    "\n",
    "Deboosere, R., Kerrigan, D.J., Wachsmuth, D. and El-Geneidy, A., 2019. Location, location and professionalization: a multilevel hedonic analysis of Airbnb listing prices and revenue. Regional Studies, Regional Science, 6(1), pp.143-156.\n",
    "\n",
    "Li, J., Moreno, A., & Zhang, D. J. (2015). Agent behavior in the sharing economy: Evidence from Airbnb. Ross School of Business Working Paper Series, 1298, 2015.\n",
    "\n",
    "Future of London 2017 https://www.futureoflondon.org.uk/wp-content/uploads/delightful-downloads/2017/12/FoL-Engaging-Londons-PRS-WEB.pdf\n",
    "\n",
    "London Borough of Culture (nd)\n",
    "https://www.london.gov.uk/sites/default/files/mol_lboc_impact_report_2022_a4_digital_version.pdf\n",
    "\n",
    "\n",
    "Mould 2017 https://www.opendemocracy.net/en/opendemocracyuk/why-culture-competitions-and-artwashing-drive-urban-inequality/\n",
    "\n",
    "Tamsin Cox & Dave O'Brien (2012) The “scouse wedding” and other myths: reflections on the evolution of a “Liverpool model” for culture-led urban regeneration, Cultural Trends, 21:2, 93-101, DOI: 10.1080/09548963.2012.674749\n"
   ]
  },
  {
   "cell_type": "markdown",
   "id": "f9ab9195-76b4-45c3-8232-8fa3bc6c325a",
   "metadata": {
    "tags": []
   },
   "source": [
    "## Cultural Infrastructure"
   ]
  },
  {
   "cell_type": "markdown",
   "id": "2423fcbc-8d0a-4f2a-bfa4-077f118954bc",
   "metadata": {},
   "source": [
    "### Role of Culture in Urban Processes"
   ]
  },
  {
   "cell_type": "markdown",
   "id": "c70d5089-f580-44d8-9312-af30d0f1ca37",
   "metadata": {},
   "source": [
    "\n"
   ]
  },
  {
   "cell_type": "markdown",
   "id": "aa66a1cc-16a8-44c5-984e-070900a41f3c",
   "metadata": {},
   "source": [
    "### Classification of cultural infrastructure"
   ]
  },
  {
   "cell_type": "markdown",
   "id": "0ecb815a-3a73-441c-842e-3ba16f67ed30",
   "metadata": {},
   "source": [
    "J Allen Whitt 1987: The Arts Coalition and the Urban Growth Machine\n",
    "\n",
    "*High Arts & the Upper Class*: "
   ]
  },
  {
   "cell_type": "markdown",
   "id": "69a8f761-fe55-46e8-81a3-092716cc563c",
   "metadata": {},
   "source": [
    "# Methodology"
   ]
  },
  {
   "cell_type": "code",
   "execution_count": null,
   "id": "fa022273-bb73-499c-b529-4caf28800492",
   "metadata": {},
   "outputs": [],
   "source": []
  }
 ],
 "metadata": {
  "kernelspec": {
   "display_name": "Python 3 (ipykernel)",
   "language": "python",
   "name": "python3"
  },
  "language_info": {
   "codemirror_mode": {
    "name": "ipython",
    "version": 3
   },
   "file_extension": ".py",
   "mimetype": "text/x-python",
   "name": "python",
   "nbconvert_exporter": "python",
   "pygments_lexer": "ipython3",
   "version": "3.10.5"
  }
 },
 "nbformat": 4,
 "nbformat_minor": 5
}
