{
 "cells": [
  {
   "cell_type": "markdown",
   "id": "60feb821-e700-4c75-b475-0ce2a27b676e",
   "metadata": {},
   "source": [
    "# 2.0 NLP\n",
    "\n",
    "## Foundations of Spatial Data Science - CASA0013\n",
    "\n",
    "### Group Project - Policy Brief"
   ]
  },
  {
   "cell_type": "markdown",
   "id": "422ec544-2acc-4ca5-9451-35e47dc487fd",
   "metadata": {},
   "source": [
    "### 2.1 Set Up"
   ]
  },
  {
   "cell_type": "code",
   "execution_count": 1,
   "id": "d54adce8-b2db-4556-93c3-14f5d3da7a05",
   "metadata": {},
   "outputs": [],
   "source": [
    "#Importing required packages\n",
    "import pandas as pd\n",
    "import geopandas as gpd\n",
    "import numpy as np\n",
    "import matplotlib.pyplot as plt\n",
    "import seaborn as sns\n",
    "import re\n",
    "import math\n",
    "import os"
   ]
  },
  {
   "cell_type": "code",
   "execution_count": 2,
   "id": "3aaed732-f52f-49ac-a4e5-a3597c291e43",
   "metadata": {},
   "outputs": [],
   "source": [
    "from sklearn.preprocessing import OneHotEncoder # We don't use this but I point out where you *could*\n",
    "from sklearn.feature_extraction.text import TfidfVectorizer\n",
    "from sklearn.feature_extraction.text import CountVectorizer\n",
    "from sklearn.decomposition import LatentDirichletAllocation"
   ]
  },
  {
   "cell_type": "code",
   "execution_count": 3,
   "id": "e6328f61-e90c-447c-86a0-cd1552bd1a98",
   "metadata": {},
   "outputs": [],
   "source": [
    "import nltk\n",
    "import spacy\n",
    "from nltk.corpus import wordnet as wn\n",
    "from nltk.stem.wordnet import WordNetLemmatizer\n",
    "\n",
    "from nltk.corpus import stopwords\n",
    "\n",
    "from nltk.tokenize import word_tokenize, sent_tokenize\n",
    "from nltk.tokenize.toktok import ToktokTokenizer\n",
    "\n",
    "from nltk.stem.porter import PorterStemmer\n",
    "from nltk.stem.snowball import SnowballStemmer\n",
    "\n",
    "from nltk import ngrams, FreqDist\n",
    "\n",
    "lemmatizer = WordNetLemmatizer()\n",
    "tokenizer = ToktokTokenizer()"
   ]
  },
  {
   "cell_type": "code",
   "execution_count": null,
   "id": "f6e02a51-5236-443c-a93f-1039151b901b",
   "metadata": {},
   "outputs": [],
   "source": [
    "import string\n",
    "import unicodedata\n",
    "from bs4 import BeautifulSoup\n",
    "from wordcloud import WordCloud, STOPWORDS"
   ]
  },
  {
   "cell_type": "code",
   "execution_count": 4,
   "id": "64dd222c-45c5-49d6-912d-05b5d22289bb",
   "metadata": {},
   "outputs": [],
   "source": [
    "#Configure\n",
    "#nltk.download('wordnet') # <-- These are done in a supporting tool, but in your own\n",
    "#nltk.download('averaged_perceptron_tagger') # application you'd need to import them\n",
    "stopword_list = set(stopwords.words('english'))"
   ]
  },
  {
   "cell_type": "code",
   "execution_count": 5,
   "id": "04b435c4-1ec2-4eee-b0a6-25e3fa88fa3b",
   "metadata": {},
   "outputs": [],
   "source": [
    "#Function to output Markdown\n",
    "\n",
    "from IPython.display import display_markdown\n",
    "\n",
    "def as_markdown(head='', body='Some body text'):\n",
    "    if head != '':\n",
    "        display_markdown(f\"##### {head}\\n\\n>{body}\\n\", raw=True)\n",
    "    else:\n",
    "        display_markdown(f\">{body}\\n\", raw=True)"
   ]
  },
  {
   "cell_type": "code",
   "execution_count": 6,
   "id": "c30abed9-ec92-4372-a251-eb4c8cca7c55",
   "metadata": {},
   "outputs": [],
   "source": [
    "import urllib.request\n",
    "host  = 'https://orca.casa.ucl.ac.uk'\n",
    "turl  = f'{host}/~jreades/__textual__.py'\n",
    "tdirs = os.path.join('textual')\n",
    "tpath = os.path.join(tdirs,'__init__.py')\n",
    "\n",
    "if not os.path.exists(tpath):\n",
    "    os.makedirs(tdirs, exist_ok=True)\n",
    "    urllib.request.urlretrieve(turl, tpath)"
   ]
  },
  {
   "cell_type": "code",
   "execution_count": 7,
   "id": "64fc700f-4b5a-49c5-ab62-74a75906c491",
   "metadata": {},
   "outputs": [],
   "source": [
    "%load_ext autoreload\n",
    "%autoreload 2"
   ]
  },
  {
   "cell_type": "code",
   "execution_count": 8,
   "id": "32148a2d-af40-4886-83c3-a3df758a7122",
   "metadata": {},
   "outputs": [
    {
     "name": "stdout",
     "output_type": "stream",
     "text": [
      "All NLTK libraries installed...\n"
     ]
    }
   ],
   "source": [
    "from textual import *"
   ]
  },
  {
   "cell_type": "markdown",
   "id": "b989405e-2fa8-42e4-aa56-a3abbef665ef",
   "metadata": {},
   "source": [
    "### 2.2 Reading In"
   ]
  },
  {
   "cell_type": "code",
   "execution_count": 9,
   "id": "b7a6195e-ecf8-4898-9049-92c0bac9ce94",
   "metadata": {},
   "outputs": [],
   "source": [
    "import os\n",
    "from requests import get\n",
    "from urllib.parse import urlparse\n",
    "\n",
    "def cache_data(src:str, dest:str) -> str:\n",
    "    \"\"\"Downloads and caches a remote file locally.\n",
    "    \n",
    "    The function sits between the 'read' step of a pandas or geopandas\n",
    "    data frame and downloading the file from a remote location. The idea\n",
    "    is that it will save it locally so that you don't need to remember to\n",
    "    do so yourself. Subsequent re-reads of the file will return instantly\n",
    "    rather than downloading the entire file for a second or n-th itme.\n",
    "    \n",
    "    Parameters\n",
    "    ----------\n",
    "    src : str\n",
    "        The remote *source* for the file, any valid URL should work.\n",
    "    dest : str\n",
    "        The *destination* location to save the downloaded file.\n",
    "        \n",
    "    Returns\n",
    "    -------\n",
    "    str\n",
    "        A string representing the local location of the file.\n",
    "    \"\"\"\n",
    "    \n",
    "    url = urlparse(src) # We assume that this is some kind of valid URL \n",
    "    fn  = os.path.split(url.path)[-1] # Extract the filename\n",
    "    dfn = os.path.join(dest,fn) # Destination filename\n",
    "    \n",
    "    # Check if dest+filename does *not* exist -- \n",
    "    # that would mean we have to download it!\n",
    "    if not os.path.isfile(dfn):\n",
    "        \n",
    "        print(f\"{dfn} not found, downloading!\")\n",
    "\n",
    "        # Convert the path back into a list (without)\n",
    "        # the filename -- we need to check that directories\n",
    "        # exist first.\n",
    "        path = os.path.split(dest)\n",
    "        \n",
    "        # Create any missing directories in dest(ination) path\n",
    "        # -- os.path.join is the reverse of split (as you saw above)\n",
    "        # but it doesn't work with lists... so I had to google how\n",
    "        # to use the 'splat' operator! os.makedirs creates missing\n",
    "        # directories in a path automatically.\n",
    "        if len(path) >= 1 and path[0] != '':\n",
    "            os.makedirs(os.path.join(*path), exist_ok=True)\n",
    "            \n",
    "        # Download and write the file\n",
    "        with open(dfn, \"wb\") as file:\n",
    "            response = get(src)\n",
    "            file.write(response.content)\n",
    "            \n",
    "        print('Done downloading...')\n",
    "\n",
    "    else:\n",
    "        print(f\"Found {dfn} locally!\")\n",
    "\n",
    "    return dfn"
   ]
  },
  {
   "cell_type": "markdown",
   "id": "66ab0e20-b24e-4630-8460-d16c0a467c3c",
   "metadata": {},
   "source": [
    "## Reading in listings data \n",
    "Two files read in: One pre-processed with NLP and one without"
   ]
  },
  {
   "cell_type": "code",
   "execution_count": 10,
   "id": "57152a01-1075-4e82-b757-4e2e76e5c242",
   "metadata": {},
   "outputs": [
    {
     "data": {
      "text/plain": [
       "(67475, 7)"
      ]
     },
     "execution_count": 10,
     "metadata": {},
     "output_type": "execute_result"
    }
   ],
   "source": [
    "# Reading in listings data with NLP\n",
    "listings_nlp = gpd.read_feather(\"data/2022-09-10-listings-with-nlp.geofeather\")\n",
    "listings_nlp.shape"
   ]
  },
  {
   "cell_type": "code",
   "execution_count": 11,
   "id": "fc285ea1-bc56-4621-a742-dad2c2fe3dc4",
   "metadata": {},
   "outputs": [
    {
     "data": {
      "text/plain": [
       "(68741, 8)"
      ]
     },
     "execution_count": 11,
     "metadata": {},
     "output_type": "execute_result"
    }
   ],
   "source": [
    "# Reading in listings data without NLP\n",
    "listings = gpd.read_feather((\"data/2022-09-10-listings.geofeather\"), columns= ['index', 'geometry', 'id', 'listing_url', 'name', \n",
    "                               'description', 'amenities', 'price', 'host_total_listings_count']).set_index('id')\n",
    "listings.shape"
   ]
  },
  {
   "cell_type": "code",
   "execution_count": null,
   "id": "69cd180e-3036-4c8c-b3a2-f1634df8c17f",
   "metadata": {},
   "outputs": [],
   "source": [
    "# listings = pd.merge(listings, listings_nlp[['index', 'description_norm']], on = 'index', how = 'left')\n",
    "# listings.head(2)"
   ]
  },
  {
   "cell_type": "code",
   "execution_count": 12,
   "id": "abf6929b-2942-44a0-8bb1-60d004d9bdf8",
   "metadata": {},
   "outputs": [
    {
     "name": "stdout",
     "output_type": "stream",
     "text": [
      "Found data/Boroughs.gpkg locally!\n",
      "Found data/Water.gpkg locally!\n",
      "Found data/Greenspace.gpkg locally!\n",
      "Done.\n"
     ]
    }
   ],
   "source": [
    "# Read in London boundaries\n",
    "ddir  = os.path.join('data') # destination directory\n",
    "spath = 'https://github.com/jreades/fsds/blob/master/data/src/' # source path\n",
    "\n",
    "boros = gpd.read_file( cache_data(spath+'Boroughs.gpkg?raw=true', ddir) )\n",
    "water = gpd.read_file( cache_data(spath+'Water.gpkg?raw=true', ddir) )\n",
    "green = gpd.read_file( cache_data(spath+'Greenspace.gpkg?raw=true', ddir) )\n",
    "\n",
    "print('Done.')"
   ]
  },
  {
   "cell_type": "code",
   "execution_count": 13,
   "id": "9af178e0-e2a1-4288-8db7-71f8b4df6526",
   "metadata": {},
   "outputs": [
    {
     "name": "stdout",
     "output_type": "stream",
     "text": [
      "gdf has 68,741 rows.\n"
     ]
    }
   ],
   "source": [
    "print(f\"gdf has {listings.shape[0]:,} rows.\")"
   ]
  },
  {
   "cell_type": "code",
   "execution_count": 14,
   "id": "bb0b2b70-f956-41ff-911e-e61fc521dab0",
   "metadata": {},
   "outputs": [],
   "source": [
    "listings = listings.to_crs('epsg:27700')"
   ]
  },
  {
   "cell_type": "markdown",
   "id": "244ddbcb-43d2-41d0-8e14-bba297c0b35e",
   "metadata": {},
   "source": [
    "### 2.3 Remove NaN Values"
   ]
  },
  {
   "cell_type": "code",
   "execution_count": 15,
   "id": "c6fa420b-6f43-4176-95d3-691efb6f2650",
   "metadata": {},
   "outputs": [
    {
     "name": "stdout",
     "output_type": "stream",
     "text": [
      "Now gdf has 67,475 rows.\n"
     ]
    }
   ],
   "source": [
    "listings = listings.dropna(subset=['description','amenities'])\n",
    "print(f\"Now gdf has {listings.shape[0]:,} rows.\")"
   ]
  },
  {
   "cell_type": "markdown",
   "id": "d428ed11-1eec-45cf-85d1-520dfa6125b0",
   "metadata": {},
   "source": [
    "### 2.4 Description Field"
   ]
  },
  {
   "cell_type": "code",
   "execution_count": 16,
   "id": "f9222a39-fdca-448c-a6f2-7c5c7de176a5",
   "metadata": {},
   "outputs": [
    {
     "data": {
      "text/plain": [
       "id\n",
       "699053507371704448                                Recently refurbished.\n",
       "53382856              ✪ MARCH BOOKINGS - DISCOUNTED RATES ✪<br /><br...\n",
       "21068222              Beautiful, newly redecorated period house, wit...\n",
       "25912554              Welcome to Applecourt, a lovely self-contained...\n",
       "30814423              Stunning one bed room flat in the heart of vib...\n",
       "Name: description, dtype: object"
      ]
     },
     "execution_count": 16,
     "metadata": {},
     "output_type": "execute_result"
    }
   ],
   "source": [
    "listings.description.sample(5, random_state=42)"
   ]
  },
  {
   "cell_type": "markdown",
   "id": "59fa54b3-b64c-438e-904a-2093e15b0ea2",
   "metadata": {},
   "source": [
    "### 2.5 Creating RegEx"
   ]
  },
  {
   "cell_type": "code",
   "execution_count": 17,
   "id": "114a2032-b1df-4316-98eb-dabd16e5e538",
   "metadata": {},
   "outputs": [
    {
     "name": "stdout",
     "output_type": "stream",
     "text": [
      "Default maximum column width: 50\n"
     ]
    }
   ],
   "source": [
    "#Increase column width\n",
    "print(f\"Default maximum column width: {pd.options.display.max_colwidth}\") # What's this currently set to?\n",
    "pd.options.display.max_colwidth=250   "
   ]
  },
  {
   "cell_type": "code",
   "execution_count": 18,
   "id": "3511467a-8e7a-4924-8f40-818c448b0374",
   "metadata": {},
   "outputs": [
    {
     "name": "stdout",
     "output_type": "stream",
     "text": [
      "Found 2,375 records for 'cultural' listings\n"
     ]
    }
   ],
   "source": [
    "#Cultural REGEX\n",
    "# clt_listings = listings[listings.description.str.contains(r'vibrant|young|exciting|nightlife|night life|art', regex=True, flags=re.IGNORECASE)].copy()\n",
    "\n",
    "clt_listings = listings[listings.description.str.contains(r'theatre|dance|night clubs| music venue', regex=True, flags=re.IGNORECASE)].copy()\n",
    "print(f\"Found {clt_listings.shape[0]:,} records for 'cultural' listings\")"
   ]
  },
  {
   "cell_type": "markdown",
   "id": "dee12bba-01ac-42da-a888-03fd8cab6e8b",
   "metadata": {},
   "source": [
    "Almost all listings have the word culture/cutural in its description"
   ]
  },
  {
   "cell_type": "code",
   "execution_count": 19,
   "id": "77ede197-aa6e-4b32-9dd1-92bba40eff5d",
   "metadata": {},
   "outputs": [
    {
     "data": {
      "text/plain": [
       "67475"
      ]
     },
     "execution_count": 19,
     "metadata": {},
     "output_type": "execute_result"
    }
   ],
   "source": [
    "listings.shape[0]"
   ]
  },
  {
   "cell_type": "markdown",
   "id": "51aedb76-fda9-456f-a31c-b2c26c9f8849",
   "metadata": {},
   "source": [
    "### 2.5.1 Plot clt_listings"
   ]
  },
  {
   "cell_type": "code",
   "execution_count": 20,
   "id": "0154b728-4bb5-4b31-8eeb-5ec0530f3ae7",
   "metadata": {},
   "outputs": [
    {
     "data": {
      "image/png": "[encoded data removed]",
      "text/plain": [
       "<Figure size 864x576 with 1 Axes>"
      ]
     },
     "metadata": {
      "needs_background": "light"
     },
     "output_type": "display_data"
    }
   ],
   "source": [
    "f,ax = plt.subplots(1,1,figsize=(12,8))\n",
    "\n",
    "# Map\n",
    "ax1 = plt.subplot2grid((4,1), (0,0), rowspan= 3)\n",
    "boros.plot(edgecolor='red', facecolor='none', linewidth=1, alpha=0.75, ax=ax1)\n",
    "clt_listings.plot(markersize=2, column='price', cmap='viridis', alpha=0.2, scheme='Fisher_Jenks_Sampled', ax=ax1)\n",
    "\n",
    "ax1.set_xlim([500000, 565000])\n",
    "ax1.set_ylim([165000, 195000]);\n",
    "\n",
    "# # Histogram\n",
    "# ax2 = plt.subplot2grid((4,1), (3,0), rowspan= 1)\n",
    "# clt_listings.price.plot.hist(bins=250, ax=ax2)\n",
    "\n",
    "plt.suptitle(\"Listings with cultural description\") # <-- How does this differ from title? Change it and see!\n",
    "# plt.tight_layout() # <-- Try creating the plot *without* this to see what it changes\n",
    "plt.show()"
   ]
  },
  {
   "cell_type": "markdown",
   "id": "fc51fb05-dcba-47a9-ab0b-1ae490b1e8c9",
   "metadata": {},
   "source": [
    "## Host count\n",
    "We'll use this for NLP on casual vs professional hosts when we get there"
   ]
  },
  {
   "cell_type": "code",
   "execution_count": 21,
   "id": "c0663c74-dda6-4120-a4d6-8060b7112eb4",
   "metadata": {},
   "outputs": [],
   "source": [
    "#Converting the total_listing_count column to numpy array for manipulation\n",
    "host_count = np.array(listings['host_total_listings_count'].values.tolist())"
   ]
  },
  {
   "cell_type": "code",
   "execution_count": 22,
   "id": "f61ff98e-5b0e-49f6-bf00-01b1d523999a",
   "metadata": {},
   "outputs": [],
   "source": [
    "host_count[host_count > 1] = 0 #Changing any values above 1 to 0. Meaning \"not casual\" (professional)."
   ]
  },
  {
   "cell_type": "code",
   "execution_count": 23,
   "id": "6f8764af-7819-4800-9072-45cb587db00d",
   "metadata": {},
   "outputs": [],
   "source": [
    "listings['casual_or_prof'] = host_count #Creating a new column which identifies if a listings host is casual (1 listing), or professional (>1 listing)"
   ]
  },
  {
   "cell_type": "code",
   "execution_count": 24,
   "id": "24ab3c1e-bf91-4f27-a6e7-3cad02dad7f8",
   "metadata": {},
   "outputs": [
    {
     "name": "stdout",
     "output_type": "stream",
     "text": [
      "<class 'geopandas.geodataframe.GeoDataFrame'>\n",
      "Int64Index: 23704 entries, 107051 to 49698549\n",
      "Data columns (total 9 columns):\n",
      " #   Column                     Non-Null Count  Dtype   \n",
      "---  ------                     --------------  -----   \n",
      " 0   index                      23704 non-null  int64   \n",
      " 1   geometry                   23704 non-null  geometry\n",
      " 2   listing_url                23704 non-null  object  \n",
      " 3   name                       23693 non-null  object  \n",
      " 4   description                23704 non-null  object  \n",
      " 5   amenities                  23704 non-null  object  \n",
      " 6   price                      23704 non-null  float64 \n",
      " 7   host_total_listings_count  23704 non-null  int64   \n",
      " 8   casual_or_prof             23704 non-null  int64   \n",
      "dtypes: float64(1), geometry(1), int64(3), object(4)\n",
      "memory usage: 1.8+ MB\n"
     ]
    }
   ],
   "source": [
    "casual_hosts = listings[listings['casual_or_prof'] == 1]\n",
    "casual_hosts.info()"
   ]
  },
  {
   "cell_type": "markdown",
   "id": "89cff9cb-6f4b-43d3-aacd-803c01924293",
   "metadata": {},
   "source": [
    "## Applying normalisation\n",
    "Now applying normalisation on cultural listings"
   ]
  },
  {
   "cell_type": "code",
   "execution_count": 32,
   "id": "1b57f5fc-a99b-493e-a844-af3b8f09b159",
   "metadata": {},
   "outputs": [],
   "source": [
    "srcdf = clt_listings # <-- you only need to change the value here to try the different selections"
   ]
  },
  {
   "cell_type": "code",
   "execution_count": 34,
   "id": "7b966584-e646-45fb-a80a-bdaa83e2d6b5",
   "metadata": {},
   "outputs": [
    {
     "name": "stdout",
     "output_type": "stream",
     "text": [
      "CPU times: user 1min 4s, sys: 493 ms, total: 1min 5s\n",
      "Wall time: 1min 5s\n"
     ]
    }
   ],
   "source": [
    "%%time \n",
    "srcdf['description_norm'] = srcdf.description.apply(normalise_document, remove_digits=True)"
   ]
  },
  {
   "cell_type": "code",
   "execution_count": 35,
   "id": "0482b756-70ff-4f8f-b19b-21751cd48961",
   "metadata": {},
   "outputs": [
    {
     "name": "stdout",
     "output_type": "stream",
     "text": [
      "['city london flat private balcony  tower london amenity mins walk tower hill tube . pubs  cafe  restaurant  supermarket  food market famous site close . plenty linen  towel  space flat . approx .  . private balcony  city london . flat near river thames  metres tower london surround capital famous sight include tower london tower bridge . site include paul cathedral  tate modern  globe theatre  south bank arts centre  gherkin . fantastic base explore capital major attraction . shakespeare globe theatre definitely worth visit trip west  varied production year round . flat meter tower london tower bridge'\n",
      " 'large  light spacious loft bedroom newly decorate ensuite shower room minute tube hammersmith . space provide large double bedroom suit either couple small family travel together . bedroom bedroom house currently live . make stay london comfortable pleasant possible take away wonderful memory stay visit  hope able point best foodie place  unique market even touristy spot . sightsee look temporary home whilst lovely city call home  hope able point various neighbourhood london .  think live pretty much london  . provide much guidance assistance wish . '\n",
      " 'space compact studio heart hammersmith . minute walk underground station  minute hammersmith broadway offer variety restaurant  coffee shop  pubs . shopping centre minute walk . hammersmith perfectly locate excellent transport link part london  local attraction include appollo  lyric theatre  olympia exhibition well minute tourist attraction westfield shopping centre  kensington high street  portobello market  kensington gardens hyde park west . beautiful studio excellent value money certainly exceed expectation budget studio modern accomodation price . ideal young guest budget although compact studio sleep person short stay . also include  ensuite bathroom open plan kitchen satellite dvd w']\n"
     ]
    }
   ],
   "source": [
    "corpus = srcdf.description_norm.fillna(' ').values\n",
    "print(corpus[0:3])"
   ]
  },
  {
   "cell_type": "code",
   "execution_count": 36,
   "id": "a3730b0a-144c-4f24-b7af-4c3d7bda94f4",
   "metadata": {},
   "outputs": [],
   "source": [
    "sentences = [nltk.sent_tokenize(text) for text in corpus]\n",
    "words     = [[nltk.tokenize.word_tokenize(sentence) \n",
    "                  for sentence in nltk.sent_tokenize(text)] \n",
    "                  for text in corpus]"
   ]
  },
  {
   "cell_type": "code",
   "execution_count": 37,
   "id": "f86bebc7-c096-483c-870e-3d9b740b232b",
   "metadata": {},
   "outputs": [
    {
     "name": "stdout",
     "output_type": "stream",
     "text": [
      "Sentences 0: ['city london flat private balcony  tower london amenity mins walk tower hill tube .', 'pubs  cafe  restaurant  supermarket  food market famous site close .', 'plenty linen  towel  space flat .', 'approx .  . private balcony  city london .', 'flat near river thames  metres tower london surround capital famous sight include tower london tower bridge .', 'site include paul cathedral  tate modern  globe theatre  south bank arts centre  gherkin .', 'fantastic base explore capital major attraction .', 'shakespeare globe theatre definitely worth visit trip west  varied production year round .', 'flat meter tower london tower bridge']\n",
      "\n",
      "Words 0: [['city', 'london', 'flat', 'private', 'balcony', 'tower', 'london', 'amenity', 'mins', 'walk', 'tower', 'hill', 'tube', '.'], ['pubs', 'cafe', 'restaurant', 'supermarket', 'food', 'market', 'famous', 'site', 'close', '.'], ['plenty', 'linen', 'towel', 'space', 'flat', '.'], ['approx', '.', '.', 'private', 'balcony', 'city', 'london', '.'], ['flat', 'near', 'river', 'thames', 'metres', 'tower', 'london', 'surround', 'capital', 'famous', 'sight', 'include', 'tower', 'london', 'tower', 'bridge', '.'], ['site', 'include', 'paul', 'cathedral', 'tate', 'modern', 'globe', 'theatre', 'south', 'bank', 'arts', 'centre', 'gherkin', '.'], ['fantastic', 'base', 'explore', 'capital', 'major', 'attraction', '.'], ['shakespeare', 'globe', 'theatre', 'definitely', 'worth', 'visit', 'trip', 'west', 'varied', 'production', 'year', 'round', '.'], ['flat', 'meter', 'tower', 'london', 'tower', 'bridge']]\n"
     ]
    }
   ],
   "source": [
    "print(f\"Sentences 0: {sentences[0]}\")\n",
    "print()\n",
    "print(f\"Words 0: {words[0]}\")"
   ]
  },
  {
   "cell_type": "markdown",
   "id": "54d83ca6-7f91-4521-8d38-b2dbde3bba34",
   "metadata": {},
   "source": [
    "## Frequencies and Ngrams"
   ]
  },
  {
   "cell_type": "code",
   "execution_count": 38,
   "id": "fed54d52-c6a8-438e-b748-206705cfbf1d",
   "metadata": {},
   "outputs": [
    {
     "name": "stdout",
     "output_type": "stream",
     "text": [
      "<FreqDist with 7217 samples and 176803 outcomes>\n",
      "<FreqDist with 62818 samples and 176802 outcomes>\n",
      "<FreqDist with 103864 samples and 176801 outcomes>\n"
     ]
    }
   ],
   "source": [
    "fcounts = dict()\n",
    "\n",
    "# Here we replace all full-stops... can you think why we might do this?\n",
    "data = nltk.tokenize.word_tokenize(' '.join([text.replace('.','') for text in corpus]))\n",
    "\n",
    "for size in 1, 2, 3:\n",
    "    fdist = FreqDist(ngrams(data, size))\n",
    "    print(fdist)\n",
    "    # If you only need one note this: https://stackoverflow.com/a/52193485/4041902\n",
    "    fcounts[size] = pd.DataFrame.from_dict({f'Ngram Size {size}': fdist})"
   ]
  },
  {
   "cell_type": "code",
   "execution_count": 39,
   "id": "90b5bbbc-2e7b-4c3f-b270-e0ecad20d613",
   "metadata": {},
   "outputs": [
    {
     "name": "stdout",
     "output_type": "stream",
     "text": [
      "{1:            Ngram Size 1\n",
      "a                     1\n",
      "abba                  1\n",
      "abbey                45\n",
      "abbeywood             2\n",
      "ability               2\n",
      "...                 ...\n",
      "ziggy                 1\n",
      "zona                  1\n",
      "zone                287\n",
      "zulu                  1\n",
      "zwave                 1\n",
      "\n",
      "[7217 rows x 1 columns], 2:                   Ngram Size 2\n",
      "a     station                1\n",
      "abba  theatre                1\n",
      "abbey apartment              2\n",
      "      buckingham            10\n",
      "      churchill              6\n",
      "...                        ...\n",
      "zone  westbourne             1\n",
      "      wimbledon              1\n",
      "      with                   1\n",
      "zulu  daily                  1\n",
      "zwave whether                1\n",
      "\n",
      "[62818 rows x 1 columns], 3:                              Ngram Size 3\n",
      "a     station    overground             1\n",
      "abba  theatre    walk                   1\n",
      "abbey apartment  fully                  2\n",
      "      buckingham palace                10\n",
      "      churchill  rooms                  6\n",
      "...                                   ...\n",
      "zone  westbourne park                   1\n",
      "      wimbledon  park                   1\n",
      "      with       excellent              1\n",
      "zulu  daily      room                   1\n",
      "zwave whether    relax                  1\n",
      "\n",
      "[103864 rows x 1 columns]}\n"
     ]
    }
   ],
   "source": [
    "print(fcounts)"
   ]
  },
  {
   "cell_type": "code",
   "execution_count": 40,
   "id": "d3f825ba-5a62-4190-a3e8-2c240a578dee",
   "metadata": {},
   "outputs": [
    {
     "name": "stdout",
     "output_type": "stream",
     "text": [
      "           Ngram Size 1\n",
      "london             2914\n",
      "space              2842\n",
      "room               2564\n",
      "walk               2217\n",
      "apartment          2136\n",
      "bedroom            1974\n",
      "kitchen            1633\n",
      "minute             1567\n",
      "flat               1561\n",
      "area               1540\n",
      "\n",
      "                  Ngram Size 2\n",
      "minute  walk               955\n",
      "guest   access             641\n",
      "central london             618\n",
      "thing   note               541\n",
      "living  room               489\n",
      "covent  garden             471\n",
      "walk    distance           407\n",
      "double  bedroom            378\n",
      "heart   london             339\n",
      "please  note               319\n",
      "\n",
      "                                        Ngram Size 3\n",
      "please       note         conditioning           199\n",
      "note         conditioning available              198\n",
      "available    room         space                  198\n",
      "conditioning available    room                   198\n",
      "shakespear   globe        theatre                183\n",
      "fully        equip        kitchen                182\n",
      "street       oxford       circus                 178\n",
      "minute       walk         south                  178\n",
      "around       minute       walk                   177\n",
      "walk         south        bank                   177\n",
      "\n"
     ]
    }
   ],
   "source": [
    "for dfs in fcounts.values():\n",
    "    print(dfs.sort_values(by=dfs.columns.values[0], ascending=False).head(10))\n",
    "    print()"
   ]
  },
  {
   "cell_type": "code",
   "execution_count": 41,
   "id": "e2993340-37b5-4fa0-9328-66ce1391f7c8",
   "metadata": {},
   "outputs": [
    {
     "data": {
      "text/html": [
       "<style>#sk-container-id-1 {color: black;background-color: white;}#sk-container-id-1 pre{padding: 0;}#sk-container-id-1 div.sk-toggleable {background-color: white;}#sk-container-id-1 label.sk-toggleable__label {cursor: pointer;display: block;width: 100%;margin-bottom: 0;padding: 0.3em;box-sizing: border-box;text-align: center;}#sk-container-id-1 label.sk-toggleable__label-arrow:before {content: \"▸\";float: left;margin-right: 0.25em;color: #696969;}#sk-container-id-1 label.sk-toggleable__label-arrow:hover:before {color: black;}#sk-container-id-1 div.sk-estimator:hover label.sk-toggleable__label-arrow:before {color: black;}#sk-container-id-1 div.sk-toggleable__content {max-height: 0;max-width: 0;overflow: hidden;text-align: left;background-color: #f0f8ff;}#sk-container-id-1 div.sk-toggleable__content pre {margin: 0.2em;color: black;border-radius: 0.25em;background-color: #f0f8ff;}#sk-container-id-1 input.sk-toggleable__control:checked~div.sk-toggleable__content {max-height: 200px;max-width: 100%;overflow: auto;}#sk-container-id-1 input.sk-toggleable__control:checked~label.sk-toggleable__label-arrow:before {content: \"▾\";}#sk-container-id-1 div.sk-estimator input.sk-toggleable__control:checked~label.sk-toggleable__label {background-color: #d4ebff;}#sk-container-id-1 div.sk-label input.sk-toggleable__control:checked~label.sk-toggleable__label {background-color: #d4ebff;}#sk-container-id-1 input.sk-hidden--visually {border: 0;clip: rect(1px 1px 1px 1px);clip: rect(1px, 1px, 1px, 1px);height: 1px;margin: -1px;overflow: hidden;padding: 0;position: absolute;width: 1px;}#sk-container-id-1 div.sk-estimator {font-family: monospace;background-color: #f0f8ff;border: 1px dotted black;border-radius: 0.25em;box-sizing: border-box;margin-bottom: 0.5em;}#sk-container-id-1 div.sk-estimator:hover {background-color: #d4ebff;}#sk-container-id-1 div.sk-parallel-item::after {content: \"\";width: 100%;border-bottom: 1px solid gray;flex-grow: 1;}#sk-container-id-1 div.sk-label:hover label.sk-toggleable__label {background-color: #d4ebff;}#sk-container-id-1 div.sk-serial::before {content: \"\";position: absolute;border-left: 1px solid gray;box-sizing: border-box;top: 0;bottom: 0;left: 50%;z-index: 0;}#sk-container-id-1 div.sk-serial {display: flex;flex-direction: column;align-items: center;background-color: white;padding-right: 0.2em;padding-left: 0.2em;position: relative;}#sk-container-id-1 div.sk-item {position: relative;z-index: 1;}#sk-container-id-1 div.sk-parallel {display: flex;align-items: stretch;justify-content: center;background-color: white;position: relative;}#sk-container-id-1 div.sk-item::before, #sk-container-id-1 div.sk-parallel-item::before {content: \"\";position: absolute;border-left: 1px solid gray;box-sizing: border-box;top: 0;bottom: 0;left: 50%;z-index: -1;}#sk-container-id-1 div.sk-parallel-item {display: flex;flex-direction: column;z-index: 1;position: relative;background-color: white;}#sk-container-id-1 div.sk-parallel-item:first-child::after {align-self: flex-end;width: 50%;}#sk-container-id-1 div.sk-parallel-item:last-child::after {align-self: flex-start;width: 50%;}#sk-container-id-1 div.sk-parallel-item:only-child::after {width: 0;}#sk-container-id-1 div.sk-dashed-wrapped {border: 1px dashed gray;margin: 0 0.4em 0.5em 0.4em;box-sizing: border-box;padding-bottom: 0.4em;background-color: white;}#sk-container-id-1 div.sk-label label {font-family: monospace;font-weight: bold;display: inline-block;line-height: 1.2em;}#sk-container-id-1 div.sk-label-container {text-align: center;}#sk-container-id-1 div.sk-container {/* jupyter's `normalize.less` sets `[hidden] { display: none; }` but bootstrap.min.css set `[hidden] { display: none !important; }` so we also need the `!important` here to be able to override the default hidden behavior on the sphinx rendered scikit-learn.org. See: https://github.com/scikit-learn/scikit-learn/issues/21755 */display: inline-block !important;position: relative;}#sk-container-id-1 div.sk-text-repr-fallback {display: none;}</style><div id=\"sk-container-id-1\" class=\"sk-top-container\"><div class=\"sk-text-repr-fallback\"><pre>CountVectorizer(ngram_range=(1, 3))</pre><b>In a Jupyter environment, please rerun this cell to show the HTML representation or trust the notebook. <br />On GitHub, the HTML representation is unable to render, please try loading this page with nbviewer.org.</b></div><div class=\"sk-container\" hidden><div class=\"sk-item\"><div class=\"sk-estimator sk-toggleable\"><input class=\"sk-toggleable__control sk-hidden--visually\" id=\"sk-estimator-id-1\" type=\"checkbox\" checked><label for=\"sk-estimator-id-1\" class=\"sk-toggleable__label sk-toggleable__label-arrow\">CountVectorizer</label><div class=\"sk-toggleable__content\"><pre>CountVectorizer(ngram_range=(1, 3))</pre></div></div></div></div></div>"
      ],
      "text/plain": [
       "CountVectorizer(ngram_range=(1, 3))"
      ]
     },
     "execution_count": 41,
     "metadata": {},
     "output_type": "execute_result"
    }
   ],
   "source": [
    "cvectorizer = CountVectorizer(ngram_range=(1,3))\n",
    "cvectorizer.fit(corpus)"
   ]
  },
  {
   "cell_type": "code",
   "execution_count": 42,
   "id": "1038897e-228a-451d-9f17-1b111add992c",
   "metadata": {},
   "outputs": [
    {
     "name": "stdout",
     "output_type": "stream",
     "text": [
      "Vocabulary mapping for club is 30776\n",
      "Found 171 rows containing club\n"
     ]
    },
    {
     "data": {
      "text/markdown": [
       "##### Club\n",
       "\n",
       ">id\n",
       "81473                                                                                                                                                                           space kitchen double free wifi connection throughout house room  germaneuropean channel available kitchen available . washing machinedish washermicrowave . share bathroom owner free park crystal palace park minute walk away . jogging nice walk . crystal palace national sports center meter pool  walk gorgeous . rent part household . property suitable anybody allergy  . linen towel available include guest access bedroom  kitchendiner  bathroom . share . thing note live london around year many trick  clubs  theatre alternative sightseeing . \n",
       "470503                                                        convert warehouse heart trendy dalston  cafe  restaurant  culture easy transport link . small charm flat  ideal people short trip london . space convert warehouse heart trendy dalston  cafe  turkish restaurant  funky  vortex jazz club  cinema  arcola theatre  ridley road street market week  large supermarket excellent transport link short walk  dalston kingsland minute away foot  link victoria line tube highbury islington minute  stratford minute . central london minute away . dalston junction also close  minute walk  allow train south . also many night . dalston zone . high ceiling  wooden floor  original metal column outdoor terrace make onebedroom\n",
       "475700                                                                                                                                      space beautiful studio apartment centre camden town . studio flat floor house  share front door stair accommodation self contain . large sunny room window overlook pretty garden . double  kitchen area halogen  microwave oven fridge .  radio wifi . also bathroom showerbath . camden town great place everything need within easy reach . within minute regent park  london  wander round camden lock market . huge choice place drink  well live music night club . west shop  gallery  theatre cinema minute away . minute walk pancras international . hand advise anything need know camden\n",
       "521982                                        willing take night booking appropriate  please touch booking night space apartment fantastic location . great area stay abundance thing right doorstep . lots wonderful coffee shop  quirky boutique  great choice restaurant club  fantastic independent cinema cosy sofa great gallery within walk distance . minute walk shoreditch station . good connection stratford . stop away . minute liverpool street . everything doorstep within walk distance . brick lane array curry house spitalfields close . wonderful flower market minute away sunday well worth visit double bedroom twin room would sleep four comfortably  extra guest possible . great view london . thing note apartment\n",
       "591837                                                                    space large bedroom flat typical white victrian building face best part hyde park  call kensington garden  view kensington palace  soon become home kate william baby  situate hyde street  kensington  close amenity include whole food large distributor . high street walk distance notting hill south kensington chelsea high street great nightlife best restaurant  night club   hotel . local area great transportation link  short walk high street kensington underground station . access circle district lines . area also serve numerous  include night  mean easily around  matter time  large bedroom  large reception bathroom amazing view park window\n",
       "                                                                                                                                                                                                                                                                                                                                                                                 ...                                                                                                                                                                                                                                                                                                                                                            \n",
       "684306365749747584                                                                    best soho central location  heart central london bedrooms double sofa . sleeps . bathrooms safe secure location smart  netflix . guest . highspeed wifi wellequipped kitchen nespresso coffee machine space heart london  apartment everything doorstep . along rich heritage  restaurant  club   eclectic range theatre  spoil worldclass shopping international dining option . central london attraction include piccadilly circus  oxford street  regent street  london   buckingham palace  british museum  tate gallery  others within walk distance . sleeps double bedrooms double sofa bed bathrooms smart  netflix . guest . highspeed unlimited\n",
       "687341641613743488                                                                                                                                                                                                                                                         topfloor flat  location  situate london soho  short walk numerous  restaurant  nightclub  theatre . ideal single traveler couple  flat offer modern facility  fully equip kitchen  modern bathroom  spacious lounge  bedroom . wifi throughout plasma tvs.piccadilly tube station minute walk property . space flat consist spacious loungediner  fully equip bathroom walkin shower  bedroom . underfloor heating  wifi throughout . guest access entire apartment .\n",
       "689029565308213120    beautifully design spacious family home room available  locate centrally peckham  zone london close park  shop   club  restaurant transport perfect london city break . welllocated  comfortable house  perfect explore vibrant area . minute away south bank . culture  theatre  tate modern .  borough market  shard thames riverside . space welcome home  bedroom family house locate heart peckham  vibrant part southeast london . victorian property large  airy bright plenty space enjoy relax . hallway entrance lead highceilinged space stylish lounge . area large  comfortable sofa   bookshelf fireplace . second lounge armchair  piano delightful window seat look onto courtyard garden . along corridor\n",
       "696068011450142848                                                                                                                                                                                                                                                                                                                                                                                     spacious bedroom apartment everything need london trip . unit come wifi  workspace  coffee maker essential need . stay  also enjoy convenient ensuite bedroom fully equip kitchen . dining table four along sofa back relax living room . airbnb within walk distance several popular shop  coffee shop  night club beautiful shoreditch \n",
       "704175031249100672                                                                                                                                                                                                                                                                                                                                                                                                            welcome camden town londo vibrant shopping entertainment neighborhood  complete famous market fashion curiosity locate regen canal . bedroom flat locate tube station close central london . separate living room sofa  kitchen bathroom . camden perfect place lively night london . nightclub music venue . miss\n",
       "Name: description_norm, Length: 171, dtype: object\n"
      ]
     },
     "metadata": {},
     "output_type": "display_data"
    }
   ],
   "source": [
    "term = 'club'\n",
    "pd.options.display.max_colwidth=750\n",
    "# Find the vocabulary mapping for the term\n",
    "print(f\"Vocabulary mapping for {term} is {cvectorizer.vocabulary_[term]}\")\n",
    "# How many times is it in the data\n",
    "print(f\"Found {srcdf.description_norm.str.contains(term).sum():,} rows containing {term}\")\n",
    "# Print the descriptions containing the term\n",
    "as_markdown('Club',srcdf[srcdf.description_norm.str.contains(term)].description_norm)"
   ]
  },
  {
   "cell_type": "code",
   "execution_count": 43,
   "id": "027aa401-46bf-4d8a-ad18-45529e668ffe",
   "metadata": {},
   "outputs": [
    {
     "data": {
      "text/plain": [
       "<2375x168136 sparse matrix of type '<class 'numpy.int64'>'\n",
       "\twith 489769 stored elements in Compressed Sparse Row format>"
      ]
     },
     "execution_count": 43,
     "metadata": {},
     "output_type": "execute_result"
    }
   ],
   "source": [
    "cvtcorpus = cvectorizer.transform(corpus)\n",
    "cvtcorpus # cvtcorpus for count-vectorised transformed corpus"
   ]
  },
  {
   "cell_type": "code",
   "execution_count": 44,
   "id": "1e652d03-d67d-4da6-ae3e-94ff833aa669",
   "metadata": {},
   "outputs": [
    {
     "data": {
      "text/html": [
       "<div>\n",
       "<style scoped>\n",
       "    .dataframe tbody tr th:only-of-type {\n",
       "        vertical-align: middle;\n",
       "    }\n",
       "\n",
       "    .dataframe tbody tr th {\n",
       "        vertical-align: top;\n",
       "    }\n",
       "\n",
       "    .dataframe thead th {\n",
       "        text-align: right;\n",
       "    }\n",
       "</style>\n",
       "<table border=\"1\" class=\"dataframe\">\n",
       "  <thead>\n",
       "    <tr style=\"text-align: right;\">\n",
       "      <th></th>\n",
       "      <th>Counts</th>\n",
       "    </tr>\n",
       "  </thead>\n",
       "  <tbody>\n",
       "    <tr>\n",
       "      <th>tower</th>\n",
       "      <td>7</td>\n",
       "    </tr>\n",
       "    <tr>\n",
       "      <th>london</th>\n",
       "      <td>6</td>\n",
       "    </tr>\n",
       "    <tr>\n",
       "      <th>tower london</th>\n",
       "      <td>4</td>\n",
       "    </tr>\n",
       "    <tr>\n",
       "      <th>flat</th>\n",
       "      <td>4</td>\n",
       "    </tr>\n",
       "    <tr>\n",
       "      <th>balcony</th>\n",
       "      <td>2</td>\n",
       "    </tr>\n",
       "    <tr>\n",
       "      <th>private balcony</th>\n",
       "      <td>2</td>\n",
       "    </tr>\n",
       "    <tr>\n",
       "      <th>city london</th>\n",
       "      <td>2</td>\n",
       "    </tr>\n",
       "    <tr>\n",
       "      <th>city london flat</th>\n",
       "      <td>2</td>\n",
       "    </tr>\n",
       "    <tr>\n",
       "      <th>include</th>\n",
       "      <td>2</td>\n",
       "    </tr>\n",
       "    <tr>\n",
       "      <th>private</th>\n",
       "      <td>2</td>\n",
       "    </tr>\n",
       "  </tbody>\n",
       "</table>\n",
       "</div>"
      ],
      "text/plain": [
       "                  Counts\n",
       "tower                  7\n",
       "london                 6\n",
       "tower london           4\n",
       "flat                   4\n",
       "balcony                2\n",
       "private balcony        2\n",
       "city london            2\n",
       "city london flat       2\n",
       "include                2\n",
       "private                2"
      ]
     },
     "execution_count": 44,
     "metadata": {},
     "output_type": "execute_result"
    }
   ],
   "source": [
    "doc_df = pd.DataFrame(cvtcorpus[0].T.todense(), \n",
    "                      index=cvectorizer.get_feature_names_out(), columns=[\"Counts\"]\n",
    "                     ).sort_values('Counts', ascending=False)\n",
    "doc_df.head(10)"
   ]
  },
  {
   "cell_type": "code",
   "execution_count": 45,
   "id": "f3037ba6-4711-4a29-a899-fad7f9b00722",
   "metadata": {},
   "outputs": [
    {
     "name": "stdout",
     "output_type": "stream",
     "text": [
      "Raw count vectorised data frame has 2,375 rows and 168,136 columns.\n"
     ]
    },
    {
     "data": {
      "text/html": [
       "<div>\n",
       "<style scoped>\n",
       "    .dataframe tbody tr th:only-of-type {\n",
       "        vertical-align: middle;\n",
       "    }\n",
       "\n",
       "    .dataframe tbody tr th {\n",
       "        vertical-align: top;\n",
       "    }\n",
       "\n",
       "    .dataframe thead th {\n",
       "        text-align: right;\n",
       "    }\n",
       "</style>\n",
       "<table border=\"1\" class=\"dataframe\">\n",
       "  <thead>\n",
       "    <tr style=\"text-align: right;\">\n",
       "      <th></th>\n",
       "      <th>abba</th>\n",
       "      <th>abba theatre</th>\n",
       "      <th>abba theatre walk</th>\n",
       "      <th>abbey</th>\n",
       "      <th>abbey apartment</th>\n",
       "      <th>abbey apartment fully</th>\n",
       "      <th>abbey buckingham</th>\n",
       "      <th>abbey buckingham palace</th>\n",
       "      <th>abbey churchill</th>\n",
       "      <th>abbey churchill rooms</th>\n",
       "    </tr>\n",
       "  </thead>\n",
       "  <tbody>\n",
       "    <tr>\n",
       "      <th>0</th>\n",
       "      <td>0</td>\n",
       "      <td>0</td>\n",
       "      <td>0</td>\n",
       "      <td>0</td>\n",
       "      <td>0</td>\n",
       "      <td>0</td>\n",
       "      <td>0</td>\n",
       "      <td>0</td>\n",
       "      <td>0</td>\n",
       "      <td>0</td>\n",
       "    </tr>\n",
       "    <tr>\n",
       "      <th>1</th>\n",
       "      <td>0</td>\n",
       "      <td>0</td>\n",
       "      <td>0</td>\n",
       "      <td>0</td>\n",
       "      <td>0</td>\n",
       "      <td>0</td>\n",
       "      <td>0</td>\n",
       "      <td>0</td>\n",
       "      <td>0</td>\n",
       "      <td>0</td>\n",
       "    </tr>\n",
       "    <tr>\n",
       "      <th>2</th>\n",
       "      <td>0</td>\n",
       "      <td>0</td>\n",
       "      <td>0</td>\n",
       "      <td>0</td>\n",
       "      <td>0</td>\n",
       "      <td>0</td>\n",
       "      <td>0</td>\n",
       "      <td>0</td>\n",
       "      <td>0</td>\n",
       "      <td>0</td>\n",
       "    </tr>\n",
       "    <tr>\n",
       "      <th>3</th>\n",
       "      <td>0</td>\n",
       "      <td>0</td>\n",
       "      <td>0</td>\n",
       "      <td>0</td>\n",
       "      <td>0</td>\n",
       "      <td>0</td>\n",
       "      <td>0</td>\n",
       "      <td>0</td>\n",
       "      <td>0</td>\n",
       "      <td>0</td>\n",
       "    </tr>\n",
       "    <tr>\n",
       "      <th>4</th>\n",
       "      <td>0</td>\n",
       "      <td>0</td>\n",
       "      <td>0</td>\n",
       "      <td>0</td>\n",
       "      <td>0</td>\n",
       "      <td>0</td>\n",
       "      <td>0</td>\n",
       "      <td>0</td>\n",
       "      <td>0</td>\n",
       "      <td>0</td>\n",
       "    </tr>\n",
       "  </tbody>\n",
       "</table>\n",
       "</div>"
      ],
      "text/plain": [
       "   abba  abba theatre  abba theatre walk  abbey  abbey apartment  \\\n",
       "0     0             0                  0      0                0   \n",
       "1     0             0                  0      0                0   \n",
       "2     0             0                  0      0                0   \n",
       "3     0             0                  0      0                0   \n",
       "4     0             0                  0      0                0   \n",
       "\n",
       "   abbey apartment fully  abbey buckingham  abbey buckingham palace  \\\n",
       "0                      0                 0                        0   \n",
       "1                      0                 0                        0   \n",
       "2                      0                 0                        0   \n",
       "3                      0                 0                        0   \n",
       "4                      0                 0                        0   \n",
       "\n",
       "   abbey churchill  abbey churchill rooms  \n",
       "0                0                      0  \n",
       "1                0                      0  \n",
       "2                0                      0  \n",
       "3                0                      0  \n",
       "4                0                      0  "
      ]
     },
     "execution_count": 45,
     "metadata": {},
     "output_type": "execute_result"
    }
   ],
   "source": [
    "cvdf = pd.DataFrame(data=cvtcorpus.toarray(),\n",
    "                        columns=cvectorizer.get_feature_names_out())\n",
    "print(f\"Raw count vectorised data frame has {cvdf.shape[0]:,} rows and {cvdf.shape[1]:,} columns.\")\n",
    "cvdf.iloc[0:5,0:10]"
   ]
  },
  {
   "cell_type": "code",
   "execution_count": 46,
   "id": "7588b63e-a84c-4926-83a3-52e4ea132f33",
   "metadata": {},
   "outputs": [
    {
     "name": "stdout",
     "output_type": "stream",
     "text": [
      "There are 168,136 terms in the data set.\n"
     ]
    },
    {
     "data": {
      "text/plain": [
       "abba                  1\n",
       "abba theatre          1\n",
       "abba theatre walk     1\n",
       "abbey                45\n",
       "abbey apartment       2\n",
       "dtype: int64"
      ]
     },
     "execution_count": 46,
     "metadata": {},
     "output_type": "execute_result"
    }
   ],
   "source": [
    "sums = cvdf.sum(axis=0)\n",
    "print(f\"There are {len(sums):,} terms in the data set.\")\n",
    "sums.head()"
   ]
  },
  {
   "cell_type": "code",
   "execution_count": 47,
   "id": "d268b798-0731-416b-a4f7-a2b72f3aaad1",
   "metadata": {},
   "outputs": [],
   "source": [
    "filter_terms = sums >= cvdf.shape[0] * 0.01"
   ]
  },
  {
   "cell_type": "code",
   "execution_count": 48,
   "id": "cfa2b9c5-17b3-447c-9994-5e86c839cfce",
   "metadata": {},
   "outputs": [
    {
     "name": "stdout",
     "output_type": "stream",
     "text": [
      "Filtered count vectorised data frame has 2,375 rows and 1,989 columns.\n"
     ]
    },
    {
     "data": {
      "text/html": [
       "<div>\n",
       "<style scoped>\n",
       "    .dataframe tbody tr th:only-of-type {\n",
       "        vertical-align: middle;\n",
       "    }\n",
       "\n",
       "    .dataframe tbody tr th {\n",
       "        vertical-align: top;\n",
       "    }\n",
       "\n",
       "    .dataframe thead th {\n",
       "        text-align: right;\n",
       "    }\n",
       "</style>\n",
       "<table border=\"1\" class=\"dataframe\">\n",
       "  <thead>\n",
       "    <tr style=\"text-align: right;\">\n",
       "      <th></th>\n",
       "      <th>abbey</th>\n",
       "      <th>able</th>\n",
       "      <th>abundance</th>\n",
       "      <th>abundance light</th>\n",
       "      <th>abundance light stylish</th>\n",
       "      <th>abundance natural</th>\n",
       "      <th>abundance natural light</th>\n",
       "      <th>abundance restaurant</th>\n",
       "      <th>abundance space</th>\n",
       "      <th>access</th>\n",
       "    </tr>\n",
       "  </thead>\n",
       "  <tbody>\n",
       "    <tr>\n",
       "      <th>0</th>\n",
       "      <td>0</td>\n",
       "      <td>0</td>\n",
       "      <td>0</td>\n",
       "      <td>0</td>\n",
       "      <td>0</td>\n",
       "      <td>0</td>\n",
       "      <td>0</td>\n",
       "      <td>0</td>\n",
       "      <td>0</td>\n",
       "      <td>0</td>\n",
       "    </tr>\n",
       "    <tr>\n",
       "      <th>1</th>\n",
       "      <td>0</td>\n",
       "      <td>2</td>\n",
       "      <td>0</td>\n",
       "      <td>0</td>\n",
       "      <td>0</td>\n",
       "      <td>0</td>\n",
       "      <td>0</td>\n",
       "      <td>0</td>\n",
       "      <td>0</td>\n",
       "      <td>0</td>\n",
       "    </tr>\n",
       "    <tr>\n",
       "      <th>2</th>\n",
       "      <td>0</td>\n",
       "      <td>0</td>\n",
       "      <td>0</td>\n",
       "      <td>0</td>\n",
       "      <td>0</td>\n",
       "      <td>0</td>\n",
       "      <td>0</td>\n",
       "      <td>0</td>\n",
       "      <td>0</td>\n",
       "      <td>0</td>\n",
       "    </tr>\n",
       "    <tr>\n",
       "      <th>3</th>\n",
       "      <td>0</td>\n",
       "      <td>0</td>\n",
       "      <td>1</td>\n",
       "      <td>0</td>\n",
       "      <td>0</td>\n",
       "      <td>0</td>\n",
       "      <td>0</td>\n",
       "      <td>0</td>\n",
       "      <td>0</td>\n",
       "      <td>0</td>\n",
       "    </tr>\n",
       "    <tr>\n",
       "      <th>4</th>\n",
       "      <td>0</td>\n",
       "      <td>0</td>\n",
       "      <td>0</td>\n",
       "      <td>0</td>\n",
       "      <td>0</td>\n",
       "      <td>0</td>\n",
       "      <td>0</td>\n",
       "      <td>0</td>\n",
       "      <td>0</td>\n",
       "      <td>0</td>\n",
       "    </tr>\n",
       "  </tbody>\n",
       "</table>\n",
       "</div>"
      ],
      "text/plain": [
       "   abbey  able  abundance  abundance light  abundance light stylish  \\\n",
       "0      0     0          0                0                        0   \n",
       "1      0     2          0                0                        0   \n",
       "2      0     0          0                0                        0   \n",
       "3      0     0          1                0                        0   \n",
       "4      0     0          0                0                        0   \n",
       "\n",
       "   abundance natural  abundance natural light  abundance restaurant  \\\n",
       "0                  0                        0                     0   \n",
       "1                  0                        0                     0   \n",
       "2                  0                        0                     0   \n",
       "3                  0                        0                     0   \n",
       "4                  0                        0                     0   \n",
       "\n",
       "   abundance space  access  \n",
       "0                0       0  \n",
       "1                0       0  \n",
       "2                0       0  \n",
       "3                0       0  \n",
       "4                0       0  "
      ]
     },
     "execution_count": 48,
     "metadata": {},
     "output_type": "execute_result"
    }
   ],
   "source": [
    "fcvdf = cvdf.drop(columns=cvdf.columns[~filter_terms].values)\n",
    "print(f\"Filtered count vectorised data frame has {fcvdf.shape[0]:,} rows and {fcvdf.shape[1]:,} columns.\")\n",
    "fcvdf.iloc[0:5,0:10]"
   ]
  },
  {
   "cell_type": "code",
   "execution_count": 49,
   "id": "11e82203-5b0e-4b75-b835-d77c9a685bd4",
   "metadata": {},
   "outputs": [
    {
     "data": {
      "text/plain": [
       "abbey                        45\n",
       "able                         59\n",
       "abundance                   592\n",
       "abundance light              89\n",
       "abundance light stylish      58\n",
       "                           ... \n",
       "year                         85\n",
       "young                        45\n",
       "zone                        287\n",
       "zone provide                175\n",
       "zone provide opportunity    175\n",
       "Length: 1989, dtype: int64"
      ]
     },
     "execution_count": 49,
     "metadata": {},
     "output_type": "execute_result"
    }
   ],
   "source": [
    "fcvdf.sum(axis=0)"
   ]
  },
  {
   "cell_type": "code",
   "execution_count": 50,
   "id": "6a171d69-5f65-4a46-b559-444402e725ea",
   "metadata": {},
   "outputs": [],
   "source": [
    "tfvectorizer = TfidfVectorizer(use_idf=True, ngram_range=(1,3), \n",
    "                               max_df=0.75, min_df=0.01) # <-- these matter!\n",
    "tftcorpus    = tfvectorizer.fit_transform(corpus) # TF-transformed corpus"
   ]
  },
  {
   "cell_type": "code",
   "execution_count": 51,
   "id": "e1f4dd3f-6fcc-4727-9e3c-123b340a6a8b",
   "metadata": {},
   "outputs": [
    {
     "data": {
      "text/html": [
       "<div>\n",
       "<style scoped>\n",
       "    .dataframe tbody tr th:only-of-type {\n",
       "        vertical-align: middle;\n",
       "    }\n",
       "\n",
       "    .dataframe tbody tr th {\n",
       "        vertical-align: top;\n",
       "    }\n",
       "\n",
       "    .dataframe thead th {\n",
       "        text-align: right;\n",
       "    }\n",
       "</style>\n",
       "<table border=\"1\" class=\"dataframe\">\n",
       "  <thead>\n",
       "    <tr style=\"text-align: right;\">\n",
       "      <th></th>\n",
       "      <th>Weights</th>\n",
       "    </tr>\n",
       "  </thead>\n",
       "  <tbody>\n",
       "    <tr>\n",
       "      <th>tower</th>\n",
       "      <td>0.639503</td>\n",
       "    </tr>\n",
       "    <tr>\n",
       "      <th>private balcony</th>\n",
       "      <td>0.208373</td>\n",
       "    </tr>\n",
       "    <tr>\n",
       "      <th>tower bridge</th>\n",
       "      <td>0.198501</td>\n",
       "    </tr>\n",
       "    <tr>\n",
       "      <th>capital</th>\n",
       "      <td>0.195372</td>\n",
       "    </tr>\n",
       "    <tr>\n",
       "      <th>site</th>\n",
       "      <td>0.185701</td>\n",
       "    </tr>\n",
       "    <tr>\n",
       "      <th>city london</th>\n",
       "      <td>0.179286</td>\n",
       "    </tr>\n",
       "    <tr>\n",
       "      <th>flat</th>\n",
       "      <td>0.159100</td>\n",
       "    </tr>\n",
       "    <tr>\n",
       "      <th>london</th>\n",
       "      <td>0.153146</td>\n",
       "    </tr>\n",
       "    <tr>\n",
       "      <th>balcony</th>\n",
       "      <td>0.138601</td>\n",
       "    </tr>\n",
       "    <tr>\n",
       "      <th>globe theatre</th>\n",
       "      <td>0.130701</td>\n",
       "    </tr>\n",
       "  </tbody>\n",
       "</table>\n",
       "</div>"
      ],
      "text/plain": [
       "                  Weights\n",
       "tower            0.639503\n",
       "private balcony  0.208373\n",
       "tower bridge     0.198501\n",
       "capital          0.195372\n",
       "site             0.185701\n",
       "city london      0.179286\n",
       "flat             0.159100\n",
       "london           0.153146\n",
       "balcony          0.138601\n",
       "globe theatre    0.130701"
      ]
     },
     "execution_count": 51,
     "metadata": {},
     "output_type": "execute_result"
    }
   ],
   "source": [
    "doc_df = pd.DataFrame(tftcorpus[0].T.todense(), index=tfvectorizer.get_feature_names_out(), columns=[\"Weights\"])\n",
    "doc_df.sort_values('Weights', ascending=False).head(10)"
   ]
  },
  {
   "cell_type": "code",
   "execution_count": 52,
   "id": "c20b8f44-9d01-441c-9ca4-13b7758e5f3d",
   "metadata": {},
   "outputs": [
    {
     "name": "stdout",
     "output_type": "stream",
     "text": [
      "TF/IDF data frame has 2,375 rows and 1,917 columns.\n"
     ]
    },
    {
     "data": {
      "text/html": [
       "<div>\n",
       "<style scoped>\n",
       "    .dataframe tbody tr th:only-of-type {\n",
       "        vertical-align: middle;\n",
       "    }\n",
       "\n",
       "    .dataframe tbody tr th {\n",
       "        vertical-align: top;\n",
       "    }\n",
       "\n",
       "    .dataframe thead th {\n",
       "        text-align: right;\n",
       "    }\n",
       "</style>\n",
       "<table border=\"1\" class=\"dataframe\">\n",
       "  <thead>\n",
       "    <tr style=\"text-align: right;\">\n",
       "      <th></th>\n",
       "      <th>abbey</th>\n",
       "      <th>able</th>\n",
       "      <th>abundance</th>\n",
       "      <th>abundance light</th>\n",
       "      <th>abundance light stylish</th>\n",
       "      <th>abundance natural</th>\n",
       "      <th>abundance natural light</th>\n",
       "      <th>abundance restaurant</th>\n",
       "      <th>abundance space</th>\n",
       "      <th>access</th>\n",
       "      <th>...</th>\n",
       "      <th>worldclass shopping international</th>\n",
       "      <th>would</th>\n",
       "      <th>would need</th>\n",
       "      <th>would need inform</th>\n",
       "      <th>yard</th>\n",
       "      <th>year</th>\n",
       "      <th>young</th>\n",
       "      <th>zone</th>\n",
       "      <th>zone provide</th>\n",
       "      <th>zone provide opportunity</th>\n",
       "    </tr>\n",
       "  </thead>\n",
       "  <tbody>\n",
       "    <tr>\n",
       "      <th>0</th>\n",
       "      <td>0.0</td>\n",
       "      <td>0.000000</td>\n",
       "      <td>0.00000</td>\n",
       "      <td>0.0</td>\n",
       "      <td>0.0</td>\n",
       "      <td>0.0</td>\n",
       "      <td>0.0</td>\n",
       "      <td>0.0</td>\n",
       "      <td>0.0</td>\n",
       "      <td>0.0</td>\n",
       "      <td>...</td>\n",
       "      <td>0.0</td>\n",
       "      <td>0.0</td>\n",
       "      <td>0.0</td>\n",
       "      <td>0.0</td>\n",
       "      <td>0.0</td>\n",
       "      <td>0.084253</td>\n",
       "      <td>0.000000</td>\n",
       "      <td>0.000000</td>\n",
       "      <td>0.0</td>\n",
       "      <td>0.0</td>\n",
       "    </tr>\n",
       "    <tr>\n",
       "      <th>1</th>\n",
       "      <td>0.0</td>\n",
       "      <td>0.264812</td>\n",
       "      <td>0.00000</td>\n",
       "      <td>0.0</td>\n",
       "      <td>0.0</td>\n",
       "      <td>0.0</td>\n",
       "      <td>0.0</td>\n",
       "      <td>0.0</td>\n",
       "      <td>0.0</td>\n",
       "      <td>0.0</td>\n",
       "      <td>...</td>\n",
       "      <td>0.0</td>\n",
       "      <td>0.0</td>\n",
       "      <td>0.0</td>\n",
       "      <td>0.0</td>\n",
       "      <td>0.0</td>\n",
       "      <td>0.000000</td>\n",
       "      <td>0.000000</td>\n",
       "      <td>0.000000</td>\n",
       "      <td>0.0</td>\n",
       "      <td>0.0</td>\n",
       "    </tr>\n",
       "    <tr>\n",
       "      <th>2</th>\n",
       "      <td>0.0</td>\n",
       "      <td>0.000000</td>\n",
       "      <td>0.00000</td>\n",
       "      <td>0.0</td>\n",
       "      <td>0.0</td>\n",
       "      <td>0.0</td>\n",
       "      <td>0.0</td>\n",
       "      <td>0.0</td>\n",
       "      <td>0.0</td>\n",
       "      <td>0.0</td>\n",
       "      <td>...</td>\n",
       "      <td>0.0</td>\n",
       "      <td>0.0</td>\n",
       "      <td>0.0</td>\n",
       "      <td>0.0</td>\n",
       "      <td>0.0</td>\n",
       "      <td>0.000000</td>\n",
       "      <td>0.115378</td>\n",
       "      <td>0.000000</td>\n",
       "      <td>0.0</td>\n",
       "      <td>0.0</td>\n",
       "    </tr>\n",
       "    <tr>\n",
       "      <th>3</th>\n",
       "      <td>0.0</td>\n",
       "      <td>0.000000</td>\n",
       "      <td>0.06919</td>\n",
       "      <td>0.0</td>\n",
       "      <td>0.0</td>\n",
       "      <td>0.0</td>\n",
       "      <td>0.0</td>\n",
       "      <td>0.0</td>\n",
       "      <td>0.0</td>\n",
       "      <td>0.0</td>\n",
       "      <td>...</td>\n",
       "      <td>0.0</td>\n",
       "      <td>0.0</td>\n",
       "      <td>0.0</td>\n",
       "      <td>0.0</td>\n",
       "      <td>0.0</td>\n",
       "      <td>0.000000</td>\n",
       "      <td>0.000000</td>\n",
       "      <td>0.085998</td>\n",
       "      <td>0.0</td>\n",
       "      <td>0.0</td>\n",
       "    </tr>\n",
       "    <tr>\n",
       "      <th>4</th>\n",
       "      <td>0.0</td>\n",
       "      <td>0.000000</td>\n",
       "      <td>0.00000</td>\n",
       "      <td>0.0</td>\n",
       "      <td>0.0</td>\n",
       "      <td>0.0</td>\n",
       "      <td>0.0</td>\n",
       "      <td>0.0</td>\n",
       "      <td>0.0</td>\n",
       "      <td>0.0</td>\n",
       "      <td>...</td>\n",
       "      <td>0.0</td>\n",
       "      <td>0.0</td>\n",
       "      <td>0.0</td>\n",
       "      <td>0.0</td>\n",
       "      <td>0.0</td>\n",
       "      <td>0.000000</td>\n",
       "      <td>0.000000</td>\n",
       "      <td>0.086064</td>\n",
       "      <td>0.0</td>\n",
       "      <td>0.0</td>\n",
       "    </tr>\n",
       "  </tbody>\n",
       "</table>\n",
       "<p>5 rows × 1917 columns</p>\n",
       "</div>"
      ],
      "text/plain": [
       "   abbey      able  abundance  abundance light  abundance light stylish  \\\n",
       "0    0.0  0.000000    0.00000              0.0                      0.0   \n",
       "1    0.0  0.264812    0.00000              0.0                      0.0   \n",
       "2    0.0  0.000000    0.00000              0.0                      0.0   \n",
       "3    0.0  0.000000    0.06919              0.0                      0.0   \n",
       "4    0.0  0.000000    0.00000              0.0                      0.0   \n",
       "\n",
       "   abundance natural  abundance natural light  abundance restaurant  \\\n",
       "0                0.0                      0.0                   0.0   \n",
       "1                0.0                      0.0                   0.0   \n",
       "2                0.0                      0.0                   0.0   \n",
       "3                0.0                      0.0                   0.0   \n",
       "4                0.0                      0.0                   0.0   \n",
       "\n",
       "   abundance space  access  ...  worldclass shopping international  would  \\\n",
       "0              0.0     0.0  ...                                0.0    0.0   \n",
       "1              0.0     0.0  ...                                0.0    0.0   \n",
       "2              0.0     0.0  ...                                0.0    0.0   \n",
       "3              0.0     0.0  ...                                0.0    0.0   \n",
       "4              0.0     0.0  ...                                0.0    0.0   \n",
       "\n",
       "   would need  would need inform  yard      year     young      zone  \\\n",
       "0         0.0                0.0   0.0  0.084253  0.000000  0.000000   \n",
       "1         0.0                0.0   0.0  0.000000  0.000000  0.000000   \n",
       "2         0.0                0.0   0.0  0.000000  0.115378  0.000000   \n",
       "3         0.0                0.0   0.0  0.000000  0.000000  0.085998   \n",
       "4         0.0                0.0   0.0  0.000000  0.000000  0.086064   \n",
       "\n",
       "   zone provide  zone provide opportunity  \n",
       "0           0.0                       0.0  \n",
       "1           0.0                       0.0  \n",
       "2           0.0                       0.0  \n",
       "3           0.0                       0.0  \n",
       "4           0.0                       0.0  \n",
       "\n",
       "[5 rows x 1917 columns]"
      ]
     },
     "execution_count": 52,
     "metadata": {},
     "output_type": "execute_result"
    }
   ],
   "source": [
    "tfidf = pd.DataFrame(data=tftcorpus.toarray(),\n",
    "                        columns=tfvectorizer.get_feature_names_out())\n",
    "print(f\"TF/IDF data frame has {tfidf.shape[0]:,} rows and {tfidf.shape[1]:,} columns.\")\n",
    "tfidf.head()"
   ]
  },
  {
   "cell_type": "code",
   "execution_count": 53,
   "id": "d0e8bd0e-878f-4314-97b3-15d7e1f58434",
   "metadata": {},
   "outputs": [
    {
     "data": {
      "text/plain": [
       "london            2923\n",
       "space             2843\n",
       "room              2566\n",
       "walk              2220\n",
       "apartment         2137\n",
       "                  ... \n",
       "option central      24\n",
       "twobedroom          24\n",
       "currently           24\n",
       "beautiful view      24\n",
       "walk covent         24\n",
       "Length: 1989, dtype: int64"
      ]
     },
     "execution_count": 53,
     "metadata": {},
     "output_type": "execute_result"
    }
   ],
   "source": [
    "fcvdf.sum().sort_values(ascending=False)"
   ]
  },
  {
   "cell_type": "markdown",
   "id": "14bffc05-ba76-43d8-aacc-8582e9891cff",
   "metadata": {},
   "source": [
    "## Word2Vec"
   ]
  },
  {
   "cell_type": "code",
   "execution_count": 55,
   "id": "cd4541bf-0da4-40b9-8614-14af833bc1e4",
   "metadata": {},
   "outputs": [],
   "source": [
    "from gensim.models.word2vec import Word2Vec"
   ]
  },
  {
   "cell_type": "code",
   "execution_count": 56,
   "id": "aaa91cea-0c3e-47e4-8897-9ba147f2d5a3",
   "metadata": {},
   "outputs": [
    {
     "name": "stdout",
     "output_type": "stream",
     "text": [
      "You've chosen 100 dimensions.\n",
      "You've chosen a window of size 3.\n",
      "With a minimum frequency of 0.005 and 2,375 documents, minimum vocab frequency is 12.\n"
     ]
    }
   ],
   "source": [
    "dims = 100\n",
    "print(f\"You've chosen {dims} dimensions.\")\n",
    "\n",
    "window = 3\n",
    "print(f\"You've chosen a window of size {window}.\")\n",
    "\n",
    "min_v_freq  = 0.005 # Don't keep words appearing less than 0.5% frequency\n",
    "min_v_count = math.ceil(min_v_freq * srcdf.shape[0])\n",
    "print(f\"With a minimum frequency of {min_v_freq} and {srcdf.shape[0]:,} documents, minimum vocab frequency is {min_v_count:,}.\")\n"
   ]
  },
  {
   "cell_type": "code",
   "execution_count": 57,
   "id": "f8f33a64-35dc-430b-8009-678447f4751b",
   "metadata": {},
   "outputs": [
    {
     "name": "stdout",
     "output_type": "stream",
     "text": [
      "CPU times: user 1min 36s, sys: 2.02 s, total: 1min 38s\n",
      "Wall time: 1min 36s\n"
     ]
    }
   ],
   "source": [
    "%%time \n",
    "\n",
    "corpus      = srcdf.description_norm.fillna(' ').values\n",
    "#corpus_sent = [nltk.sent_tokenize(text) for text in corpus] # <-- with more formal writing this would work well\n",
    "corpus_sent = [d.replace('.',' ').split(' ') for d in corpus] # <-- deals better with many short sentences though context may end up... weird\n",
    "model       = Word2Vec(sentences=corpus_sent, vector_size=dims, window=window, epochs=200, \n",
    "                 min_count=min_v_count, seed=42, workers=1)\n",
    "\n",
    "model.save(f\"word2vec-d{dims}-w{window}.model\") # <-- You can then Word2Vec.load(...) which is useful with large corpora"
   ]
  },
  {
   "cell_type": "code",
   "execution_count": 58,
   "id": "c0162694-fcd9-4bd0-8f50-098af253dd84",
   "metadata": {},
   "outputs": [
    {
     "name": "stdout",
     "output_type": "stream",
     "text": [
      "Didn't find approve in model. Can happen with low-frequency terms.\n",
      "Didn't find excellently in model. Can happen with low-frequency terms.\n",
      "Didn't find departure in model. Can happen with low-frequency terms.\n",
      "Didn't find depend in model. Can happen with low-frequency terms.\n",
      "Didn't find proper in model. Can happen with low-frequency terms.\n",
      "Didn't find bench in model. Can happen with low-frequency terms.\n"
     ]
    },
    {
     "data": {
      "text/html": [
       "<div>\n",
       "<style scoped>\n",
       "    .dataframe tbody tr th:only-of-type {\n",
       "        vertical-align: middle;\n",
       "    }\n",
       "\n",
       "    .dataframe tbody tr th {\n",
       "        vertical-align: top;\n",
       "    }\n",
       "\n",
       "    .dataframe thead th {\n",
       "        text-align: right;\n",
       "    }\n",
       "</style>\n",
       "<table border=\"1\" class=\"dataframe\">\n",
       "  <thead>\n",
       "    <tr style=\"text-align: right;\">\n",
       "      <th></th>\n",
       "      <th>Term</th>\n",
       "      <th>V1</th>\n",
       "      <th>V2</th>\n",
       "      <th>V3</th>\n",
       "      <th>Top 7 Similar</th>\n",
       "    </tr>\n",
       "  </thead>\n",
       "  <tbody>\n",
       "    <tr>\n",
       "      <th>0</th>\n",
       "      <td>plus</td>\n",
       "      <td>1.521936</td>\n",
       "      <td>0.035546</td>\n",
       "      <td>1.227235</td>\n",
       "      <td>sitting, also, might, carpet, dining, sink, could</td>\n",
       "    </tr>\n",
       "    <tr>\n",
       "      <th>1</th>\n",
       "      <td>converted</td>\n",
       "      <td>-0.438615</td>\n",
       "      <td>0.485191</td>\n",
       "      <td>2.722619</td>\n",
       "      <td>conversion, beautiful, modernised, story, lovely, list, mansion</td>\n",
       "    </tr>\n",
       "    <tr>\n",
       "      <th>2</th>\n",
       "      <td>end</td>\n",
       "      <td>1.678559</td>\n",
       "      <td>0.011343</td>\n",
       "      <td>-2.368780</td>\n",
       "      <td>fitzrovia, londo, tucked, carnaby, action, nightclub, starting</td>\n",
       "    </tr>\n",
       "    <tr>\n",
       "      <th>3</th>\n",
       "      <td>international</td>\n",
       "      <td>0.419620</td>\n",
       "      <td>3.531120</td>\n",
       "      <td>-2.890671</td>\n",
       "      <td>oval, euston, dance, type, lane, legendary, various</td>\n",
       "    </tr>\n",
       "    <tr>\n",
       "      <th>4</th>\n",
       "      <td>fill</td>\n",
       "      <td>-0.376944</td>\n",
       "      <td>0.647502</td>\n",
       "      <td>1.370756</td>\n",
       "      <td>flood, keep, retain, full, quirky, sleek, artwork</td>\n",
       "    </tr>\n",
       "    <tr>\n",
       "      <th>5</th>\n",
       "      <td>armchair</td>\n",
       "      <td>5.894972</td>\n",
       "      <td>0.333341</td>\n",
       "      <td>0.955146</td>\n",
       "      <td>plush, chair, pull, fireplace, soft, double, dining</td>\n",
       "    </tr>\n",
       "    <tr>\n",
       "      <th>6</th>\n",
       "      <td>pull</td>\n",
       "      <td>2.136931</td>\n",
       "      <td>-1.312096</td>\n",
       "      <td>-0.064455</td>\n",
       "      <td>sofa, foam, triple, lamp, mattress, blackout, plush</td>\n",
       "    </tr>\n",
       "    <tr>\n",
       "      <th>7</th>\n",
       "      <td>share</td>\n",
       "      <td>2.935718</td>\n",
       "      <td>-1.146898</td>\n",
       "      <td>1.272260</td>\n",
       "      <td>separate, shared, private, household, hallway, access, room</td>\n",
       "    </tr>\n",
       "  </tbody>\n",
       "</table>\n",
       "</div>"
      ],
      "text/plain": [
       "            Term        V1        V2        V3  \\\n",
       "0           plus  1.521936  0.035546  1.227235   \n",
       "1      converted -0.438615  0.485191  2.722619   \n",
       "2            end  1.678559  0.011343 -2.368780   \n",
       "3  international  0.419620  3.531120 -2.890671   \n",
       "4           fill -0.376944  0.647502  1.370756   \n",
       "5       armchair  5.894972  0.333341  0.955146   \n",
       "6           pull  2.136931 -1.312096 -0.064455   \n",
       "7          share  2.935718 -1.146898  1.272260   \n",
       "\n",
       "                                                     Top 7 Similar  \n",
       "0                sitting, also, might, carpet, dining, sink, could  \n",
       "1  conversion, beautiful, modernised, story, lovely, list, mansion  \n",
       "2   fitzrovia, londo, tucked, carnaby, action, nightclub, starting  \n",
       "3              oval, euston, dance, type, lane, legendary, various  \n",
       "4                flood, keep, retain, full, quirky, sleek, artwork  \n",
       "5              plush, chair, pull, fireplace, soft, double, dining  \n",
       "6              sofa, foam, triple, lamp, mattress, blackout, plush  \n",
       "7      separate, shared, private, household, hallway, access, room  "
      ]
     },
     "execution_count": 58,
     "metadata": {},
     "output_type": "execute_result"
    }
   ],
   "source": [
    "pd.set_option('display.max_colwidth',150)\n",
    "\n",
    "df = fcounts[1] # <-- copy out only the unigrams as we haven't trained anything else\n",
    "\n",
    "n     = 14 # number of words\n",
    "topn  = 7  # number of most similar words\n",
    "\n",
    "selected_words = df[df['Ngram Size 1'] > 5].reset_index().level_0.sample(n, random_state=42).tolist()\n",
    "\n",
    "words = []\n",
    "v1    = []\n",
    "v2    = []\n",
    "v3    = []\n",
    "sims  = []\n",
    "\n",
    "for w in selected_words:\n",
    "    try: \n",
    "        vector = model.wv[w]  # get numpy vector of a word\n",
    "        #print(f\"Word vector for '{w}' starts: {vector[:5]}...\")\n",
    "    \n",
    "        sim = model.wv.most_similar(w, topn=topn)\n",
    "        #print(f\"Similar words to '{w}' include: {sim}.\")\n",
    "    \n",
    "        words.append(w)\n",
    "        v1.append(vector[0])\n",
    "        v2.append(vector[1])\n",
    "        v3.append(vector[2])\n",
    "        sims.append(\", \".join([x[0] for x in sim]))\n",
    "    except KeyError:\n",
    "        print(f\"Didn't find {w} in model. Can happen with low-frequency terms.\")\n",
    "    \n",
    "vecs = pd.DataFrame({\n",
    "    'Term':words,\n",
    "    'V1':v1, \n",
    "    'V2':v2, \n",
    "    'V3':v3,\n",
    "    f'Top {topn} Similar':sims\n",
    "})\n",
    "\n",
    "vecs"
   ]
  }
 ],
 "metadata": {
  "kernelspec": {
   "display_name": "Python 3 (ipykernel)",
   "language": "python",
   "name": "python3"
  },
  "language_info": {
   "codemirror_mode": {
    "name": "ipython",
    "version": 3
   },
   "file_extension": ".py",
   "mimetype": "text/x-python",
   "name": "python",
   "nbconvert_exporter": "python",
   "pygments_lexer": "ipython3",
   "version": "3.10.5"
  }
 },
 "nbformat": 4,
 "nbformat_minor": 5
}
